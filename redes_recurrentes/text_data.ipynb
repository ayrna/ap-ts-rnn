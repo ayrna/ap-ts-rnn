{
  "cells": [
    {
      "cell_type": "markdown",
      "metadata": {},
      "source": [
        "<a href=\"https://colab.research.google.com/github/ayrna/ap2122/blob/main/redes_recurrentes/text_data.ipynb\" target=\"_parent\"><img src=\"https://colab.research.google.com/assets/colab-badge.svg\" alt=\"Open In Colab\"/></a>"
      ]
    },
    {
      "cell_type": "markdown",
      "metadata": {
        "id": "WMucfLUS1yhH"
      },
      "source": [
        "## ¿Qué es esto?\n",
        "\n",
        "Este cuaderno de Jupyter contiene código Python para construir una red recurrente LSTM  que proporciona alrededor de un 87-88% de precisión en el dataset *IMDB Movie Review Sentiment Analysis Dataset*. \n",
        "\n",
        "Para más información podéis consultar este [enlace](https://www.bouvet.no/bouvet-deler/explaining-recurrent-neural-networks)."
      ]
    },
    {
      "cell_type": "markdown",
      "metadata": {
        "id": "wFUKGe4x3ala"
      },
      "source": [
        "## Pensado para Google Collaboratory\n",
        "\n",
        "El código está preparado para funcionar en Google Collab. Si queréis ejecutarlo de forma local, tendréis que configurar todos los elementos (Cuda, Tensorflow...).\n",
        "\n",
        "En Google Collab, para conseguir que la red se entrene más rápido deberíamos usar la GPU. En el menú **Entorno de ejecución** elige **Cambiar tipo de entorno de ejecución** y selecciona \"GPU\".\n",
        "\n",
        "No olvides hacer los cambios efectivos pulsando sobre **Reiniciar entorno de ejecución**.\n"
      ]
    },
    {
      "cell_type": "markdown",
      "metadata": {
        "id": "WP1VrbVp3sVu"
      },
      "source": [
        "## Preparándolo todo\n",
        "\n",
        "Al ejecutar este código, puede ser que recibas un *warning* pidiéndote que reinicies el *Entorno de ejecución*. Puedes ignorarlo o reiniciarlo con \"Entorno de ejecución -> Reiniciar entorno de ejecución\" si encuentras algún tipo de problema."
      ]
    },
    {
      "cell_type": "code",
      "execution_count": 1,
      "metadata": {
        "colab": {
          "base_uri": "https://localhost:8080/"
        },
        "id": "2e3txwbh3q76",
        "outputId": "02d1368c-9f38-45a5-a5a7-d0381364b2d8"
      },
      "outputs": [
        {
          "name": "stdout",
          "output_type": "stream",
          "text": [
            "Downloading data from https://storage.googleapis.com/tensorflow/tf-keras-datasets/imdb.npz\n",
            "17464789/17464789 [==============================] - 0s 0us/step\n"
          ]
        }
      ],
      "source": [
        "# Todos los import necesarios\n",
        "import tensorflow as tf \n",
        "import numpy as np\n",
        "from tensorflow.keras.preprocessing import sequence\n",
        "from numpy import array\n",
        "\n",
        "# Suprimir los warning de tensorflow\n",
        "import logging\n",
        "logging.getLogger('tensorflow').disabled = True\n",
        "\n",
        "# Obtener los datos de \"IMDB Movie Review\", limitando las revisiones\n",
        "# a las 10000 palabras más comunes\n",
        "vocab_size = 10000\n",
        "(x_train, y_train), (x_test, y_test) = tf.keras.datasets.imdb.load_data(num_words=vocab_size)\n",
        "\n",
        "# Maping de las etiquetas\n",
        "class_names = [\"Negative\", \"Positive\"]"
      ]
    },
    {
      "cell_type": "markdown",
      "metadata": {
        "id": "hdyHL8FF0JJy"
      },
      "source": [
        "## Crear un mapeo que nos permita convertir el dataset IMDB a revisiones que podamos leer\n",
        "\n",
        "Las revisiones en el dataset IMDB están codificadas como una secuencia de enteros. Afortunadamente, el dataset también contiene un índice que nos permite volver a una representación tipo texto."
      ]
    },
    {
      "cell_type": "code",
      "execution_count": 2,
      "metadata": {
        "colab": {
          "base_uri": "https://localhost:8080/"
        },
        "id": "E05AweFu0Imt",
        "outputId": "f677439b-e0c4-442e-86ad-6706eb049e7f"
      },
      "outputs": [
        {
          "name": "stdout",
          "output_type": "stream",
          "text": [
            "Downloading data from https://storage.googleapis.com/tensorflow/tf-keras-datasets/imdb_word_index.json\n",
            "1641221/1641221 [==============================] - 0s 0us/step\n"
          ]
        }
      ],
      "source": [
        "# Obtener el índice de palabras del dataset\n",
        "word_index = tf.keras.datasets.imdb.get_word_index()\n",
        "\n",
        "# Asegurarnos de que las palabras \"especiales\" pueden leerse correctamente \n",
        "word_index = {k:(v+3) for k,v in word_index.items()}\n",
        "word_index[\"<PAD>\"] = 0\n",
        "word_index[\"<START>\"] = 1\n",
        "word_index[\"<UNKNOWN>\"] = 2\n",
        "word_index[\"<UNUSED>\"] = 3\n",
        "\n",
        "# Buscar las palabras en el índice y hacer una función que decodifique cada review\n",
        "# Si la palabra no está devolverá '?'\n",
        "reverse_word_index = dict([(value, key) for (key, value) in word_index.items()])\n",
        "def decode_review(text):\n",
        "    return ' '.join([reverse_word_index.get(i, '?') for i in text])"
      ]
    },
    {
      "cell_type": "markdown",
      "metadata": {
        "id": "fFXK-g6G81sC"
      },
      "source": [
        "## Echemos un vistazo a los datos\n",
        "\n",
        "Ahora vamos a ver más de cerca los datos. ¿Cuántas palabras contienen nuestras reviews?\n",
        "\n",
        "¿Qué aspecto tiene una review codificada y decodificada?\n"
      ]
    },
    {
      "cell_type": "code",
      "execution_count": 3,
      "metadata": {
        "colab": {
          "base_uri": "https://localhost:8080/"
        },
        "id": "yD1qHVBn81Y_",
        "outputId": "12f6d767-8147-4ba4-e87e-44afd0a4865c"
      },
      "outputs": [
        {
          "name": "stdout",
          "output_type": "stream",
          "text": [
            "Máxima longitud de una revisión: 2494\n",
            "Mínima longitud de una revisión: 7\n",
            "Longitud media de las revisiones: 234.75892\n",
            "\n",
            "Revisión en modo máquina (codificada)\n",
            "  Código de la revisión: [1, 13, 219, 14, 33, 4, 2, 22, 1413, 12, 16, 373, 175, 2711, 1115, 1026, 430, 939, 16, 23, 2444, 25, 43, 697, 89, 12, 16, 170, 8, 130, 262, 19, 32, 4, 665, 7, 4, 2, 322, 5, 4, 1520, 7, 4, 86, 250, 10, 10, 4, 249, 173, 16, 4, 3891, 6, 19, 4, 167, 564, 5, 564, 1325, 36, 805, 8, 216, 638, 17, 2, 21, 25, 100, 376, 507, 4, 2110, 15, 79, 125, 23, 567, 13, 2134, 233, 36, 4852, 2, 5, 81, 1672, 10, 10, 92, 437, 129, 58, 13, 69, 8, 401, 61, 1432, 39, 1286, 46, 7, 12]\n",
            "  Sentimiento: 0\n",
            "\n",
            "Revisión en modo texto\n",
            "  Texto de la revisión: <START> i saw this at the <UNKNOWN> film festival it was awful every clichéd violent rich boy fantasy was on display you just knew how it was going to end especially with all the shots of the <UNKNOWN> wife and the rape of the first girl br br the worst part was the q a with the director writer and writer producer they tried to come across as <UNKNOWN> but you could tell they're the types that get off on violence i bet anything they frequent <UNKNOWN> and do drugs br br don't waste your time i had to keep my boyfriend from walking out of it\n",
            "  Sentimiento: Negative\n"
          ]
        }
      ],
      "source": [
        "# Concatenar los datasets de entrenamiento y de test\n",
        "allreviews = np.concatenate((x_train, x_test), axis=0)\n",
        "\n",
        "# Longitud de las revisiones a largo de los dos conjuntos\n",
        "result = [len(x) for x in allreviews]\n",
        "print(\"Máxima longitud de una revisión: {}\".format(np.max(result)))\n",
        "print(\"Mínima longitud de una revisión: {}\".format(np.min(result)))\n",
        "print(\"Longitud media de las revisiones: {}\".format(np.mean(result)))\n",
        "\n",
        "# Imprimir una revisión concreta y su etiqueta.\n",
        "# Reemplaza el número si quieres ver otra.\n",
        "review_to_print=60\n",
        "print(\"\")\n",
        "print(\"Revisión en modo máquina (codificada)\")\n",
        "print(\"  Código de la revisión: \" + str(x_train[review_to_print]))\n",
        "print(\"  Sentimiento: \" + str(y_train[review_to_print]))\n",
        "print(\"\")\n",
        "print(\"Revisión en modo texto\")\n",
        "print(\"  Texto de la revisión: \" + decode_review(x_train[review_to_print]))\n",
        "print(\"  Sentimiento: \" + class_names[y_train[review_to_print]])\n"
      ]
    },
    {
      "cell_type": "markdown",
      "metadata": {
        "id": "mF-Votm66zD5"
      },
      "source": [
        "## Pre-procesando los datos\n",
        "\n",
        "Tenemos que asegurarnos de que nuestras revisiones tienen siempre la misma\n",
        "longitud, ya que se necesita para establecer los parámetros de la LSTM.\n",
        "\n",
        "Para algunas revisiones tendremos que truncar algunas palabras, mientras que para otras habrá que establecer palabras de relleno (`padding`)."
      ]
    },
    {
      "cell_type": "code",
      "execution_count": 4,
      "metadata": {
        "colab": {
          "base_uri": "https://localhost:8080/"
        },
        "id": "uNtJTLJA6gaT",
        "outputId": "a0b50c8c-306d-4dfa-c708-7acf5f49af53"
      },
      "outputs": [
        {
          "name": "stdout",
          "output_type": "stream",
          "text": [
            "Shape de los datos de entrenamiento: (25000, 500)\n",
            "Shape de la etiqueta de entrenamiento (25000,)\n",
            "Shape de los datos de test: (25000, 500)\n",
            "Shape de la etiqueta de test: (25000,)\n",
            "\n",
            "Texto de la revisión (post padding): <PAD> <PAD> <PAD> <PAD> <PAD> <PAD> <PAD> <PAD> <PAD> <PAD> <PAD> <PAD> <PAD> <PAD> <PAD> <PAD> <PAD> <PAD> <PAD> <PAD> <PAD> <PAD> <PAD> <PAD> <PAD> <PAD> <PAD> <PAD> <PAD> <PAD> <PAD> <PAD> <PAD> <PAD> <PAD> <PAD> <PAD> <PAD> <PAD> <PAD> <PAD> <PAD> <PAD> <PAD> <PAD> <PAD> <PAD> <PAD> <PAD> <PAD> <PAD> <PAD> <PAD> <PAD> <PAD> <PAD> <PAD> <PAD> <PAD> <PAD> <PAD> <PAD> <PAD> <PAD> <PAD> <PAD> <PAD> <PAD> <PAD> <PAD> <PAD> <PAD> <PAD> <PAD> <PAD> <PAD> <PAD> <PAD> <PAD> <PAD> <PAD> <PAD> <PAD> <PAD> <PAD> <PAD> <PAD> <PAD> <PAD> <PAD> <PAD> <PAD> <PAD> <PAD> <PAD> <PAD> <PAD> <PAD> <PAD> <PAD> <PAD> <PAD> <PAD> <PAD> <PAD> <PAD> <PAD> <PAD> <PAD> <PAD> <PAD> <PAD> <PAD> <PAD> <PAD> <PAD> <PAD> <PAD> <PAD> <PAD> <PAD> <PAD> <PAD> <PAD> <PAD> <PAD> <PAD> <PAD> <PAD> <PAD> <PAD> <PAD> <PAD> <PAD> <PAD> <PAD> <PAD> <PAD> <PAD> <PAD> <PAD> <PAD> <PAD> <PAD> <PAD> <PAD> <PAD> <PAD> <PAD> <PAD> <PAD> <PAD> <PAD> <PAD> <PAD> <PAD> <PAD> <PAD> <PAD> <PAD> <PAD> <PAD> <PAD> <PAD> <PAD> <PAD> <PAD> <PAD> <PAD> <PAD> <PAD> <PAD> <PAD> <PAD> <PAD> <PAD> <PAD> <PAD> <PAD> <PAD> <PAD> <PAD> <PAD> <PAD> <PAD> <PAD> <PAD> <PAD> <PAD> <PAD> <PAD> <PAD> <PAD> <PAD> <PAD> <PAD> <PAD> <PAD> <PAD> <PAD> <PAD> <PAD> <PAD> <PAD> <PAD> <PAD> <PAD> <PAD> <PAD> <PAD> <PAD> <PAD> <PAD> <PAD> <PAD> <PAD> <PAD> <PAD> <PAD> <PAD> <PAD> <PAD> <PAD> <PAD> <PAD> <PAD> <PAD> <PAD> <PAD> <PAD> <PAD> <PAD> <PAD> <PAD> <PAD> <PAD> <PAD> <PAD> <PAD> <PAD> <PAD> <PAD> <PAD> <PAD> <PAD> <PAD> <PAD> <PAD> <PAD> <PAD> <PAD> <PAD> <PAD> <PAD> <PAD> <PAD> <PAD> <PAD> <PAD> <PAD> <PAD> <PAD> <PAD> <PAD> <PAD> <PAD> <PAD> <PAD> <PAD> <PAD> <PAD> <PAD> <PAD> <PAD> <PAD> <PAD> <PAD> <PAD> <PAD> <PAD> <PAD> <PAD> <PAD> <PAD> <PAD> <PAD> <PAD> <PAD> <PAD> <PAD> <PAD> <PAD> <PAD> <PAD> <PAD> <PAD> <PAD> <PAD> <PAD> <PAD> <PAD> <PAD> <PAD> <PAD> <PAD> <PAD> <PAD> <PAD> <PAD> <PAD> <PAD> <PAD> <PAD> <PAD> <PAD> <PAD> <PAD> <PAD> <PAD> <PAD> <PAD> <PAD> <PAD> <PAD> <PAD> <PAD> <PAD> <PAD> <PAD> <PAD> <PAD> <PAD> <PAD> <PAD> <PAD> <PAD> <PAD> <PAD> <PAD> <PAD> <PAD> <PAD> <PAD> <PAD> <PAD> <PAD> <PAD> <PAD> <PAD> <PAD> <PAD> <PAD> <PAD> <PAD> <PAD> <PAD> <PAD> <PAD> <PAD> <PAD> <PAD> <PAD> <PAD> <PAD> <PAD> <PAD> <PAD> <PAD> <PAD> <PAD> <PAD> <PAD> <PAD> <PAD> <PAD> <PAD> <PAD> <PAD> <PAD> <PAD> <PAD> <PAD> <PAD> <PAD> <PAD> <PAD> <PAD> <PAD> <PAD> <PAD> <PAD> <PAD> <PAD> <START> i saw this at the <UNKNOWN> film festival it was awful every clichéd violent rich boy fantasy was on display you just knew how it was going to end especially with all the shots of the <UNKNOWN> wife and the rape of the first girl br br the worst part was the q a with the director writer and writer producer they tried to come across as <UNKNOWN> but you could tell they're the types that get off on violence i bet anything they frequent <UNKNOWN> and do drugs br br don't waste your time i had to keep my boyfriend from walking out of it\n"
          ]
        }
      ],
      "source": [
        "# Longitud a la que vamos a dejar la ventana\n",
        "review_length = 500\n",
        "\n",
        "# Truncar o rellenar los conjuntos\n",
        "x_train = sequence.pad_sequences(x_train, maxlen = review_length)\n",
        "x_test = sequence.pad_sequences(x_test, maxlen = review_length)\n",
        "\n",
        "# Comprobamos el tamaño de los conjuntos. Revisaremos los datos de entrenamiento\n",
        "# y de test, comprobando que las 25000 revisiones tienen 500 enteros.\n",
        "# Las etiquetas de clase deberían ser 25000, con valores de 0 o 1\n",
        "print(\"Shape de los datos de entrenamiento: \" + str(x_train.shape))\n",
        "print(\"Shape de la etiqueta de entrenamiento \" + str(y_train.shape))\n",
        "print(\"Shape de los datos de test: \" + str(x_test.shape))\n",
        "print(\"Shape de la etiqueta de test: \" + str(y_test.shape))\n",
        "\n",
        "# Note padding is added to start of review, not the end\n",
        "print(\"\")\n",
        "print(\"Texto de la revisión (post padding): \" + decode_review(x_train[60]))"
      ]
    },
    {
      "cell_type": "markdown",
      "metadata": {
        "id": "BfOdV_VCCFee"
      },
      "source": [
        "## Crear y construir una red LSTM recurrente"
      ]
    },
    {
      "cell_type": "code",
      "execution_count": 5,
      "metadata": {
        "colab": {
          "base_uri": "https://localhost:8080/"
        },
        "id": "8nmO8M4aCKwT",
        "outputId": "d8ae5d7b-5d36-48a4-f8b3-9d9864134fe0"
      },
      "outputs": [
        {
          "name": "stdout",
          "output_type": "stream",
          "text": [
            "Model: \"sequential\"\n",
            "_________________________________________________________________\n",
            " Layer (type)                Output Shape              Param #   \n",
            "=================================================================\n",
            " embedding (Embedding)       (None, 500, 32)           320000    \n",
            "                                                                 \n",
            " dropout (Dropout)           (None, 500, 32)           0         \n",
            "                                                                 \n",
            " lstm (LSTM)                 (None, 32)                8320      \n",
            "                                                                 \n",
            " dropout_1 (Dropout)         (None, 32)                0         \n",
            "                                                                 \n",
            " dense (Dense)               (None, 1)                 33        \n",
            "                                                                 \n",
            "=================================================================\n",
            "Total params: 328,353\n",
            "Trainable params: 328,353\n",
            "Non-trainable params: 0\n",
            "_________________________________________________________________\n"
          ]
        }
      ],
      "source": [
        "# Empezamos definiendo una pila vacía. Usaremos esta pila para ir construyendo\n",
        "# la red, capa por capa\n",
        "model = tf.keras.models.Sequential()\n",
        "\n",
        "# La capa de tipo Embedding proporciona un mapeo (también llamado Word Embedding)\n",
        "# para todas las palabras de nuestro conjunto de entrenamiento. En este embedding,\n",
        "# las palabras que están cerca unas de otras comparten información de contexto \n",
        "# y/o de significado. Esta transformación es aprendida durante el entrenamiento\n",
        "model.add(\n",
        "    tf.keras.layers.Embedding(\n",
        "        input_dim = vocab_size, # Tamaño del vocabulario\n",
        "        output_dim = 32, # Dimensionalidad del embedding\n",
        "        input_length = review_length # Longitud de las secuencias de entrada\n",
        "    )\n",
        ")\n",
        "\n",
        "# Las capas de tipo Dropout combaten el sobre aprendizaje y fuerzan a que el \n",
        "# modelo aprenda múltiples representaciones de los mismos datos, ya que pone a \n",
        "# cero de forma aleatoria algunas de las neuronas durante la fase de \n",
        "# entrenamiento\n",
        "model.add(\n",
        "    tf.keras.layers.Dropout(\n",
        "        rate=0.25 # Poner a cero aleatoriamente un 25% de las neuronas\n",
        "    )\n",
        ")\n",
        "\n",
        "# Aquí es donde viene realmente la capa LSTM. Esta capa va a mirar cada \n",
        "# secuencia de palabras de la revisión junto con sus embeddings y utilizará \n",
        "# ambos elementos para determinar el sentimiento de la revisión\n",
        "model.add(\n",
        "    tf.keras.layers.LSTM(\n",
        "        units=32 # La capa va a tener 32 neuronas de tipo LSTM\n",
        "    )\n",
        ")\n",
        "\n",
        "# Añadir una segunda capa Dropout con el mismo objetivo que la primera\n",
        "model.add(\n",
        "    tf.keras.layers.Dropout(\n",
        "        rate=0.25 # Poner a cero aleatoriamente un 25% de las neuronas\n",
        "    )\n",
        ")\n",
        "\n",
        "# Todas las neuronas LSTM se conectan a un solo nodo en la capa densa. La \n",
        "# función sigmoide determina la salida de este nodo, con un valor entre 0 y 1.\n",
        "# Cuanto más cercano sea a 1, más positiva es la revisión\n",
        "model.add(\n",
        "    tf.keras.layers.Dense(\n",
        "        units=1, # Una única salida\n",
        "        activation='sigmoid' # Función de activación sigmoide\n",
        "    )\n",
        ")\n",
        "\n",
        "# Compilar el modelo\n",
        "model.compile(\n",
        "    loss=tf.keras.losses.binary_crossentropy, # Entropía cruzada\n",
        "    optimizer=tf.keras.optimizers.Adam(), # Optimizador Adam\n",
        "    metrics=['accuracy']) # Métrica de los informes\n",
        "\n",
        "# Mostrar un resumen de la estructura del modelo\n",
        "model.summary()"
      ]
    },
    {
      "cell_type": "markdown",
      "metadata": {
        "id": "8Xx1Q2I8WNI9"
      },
      "source": [
        "## Visualizar el modelo"
      ]
    },
    {
      "cell_type": "code",
      "execution_count": 6,
      "metadata": {
        "colab": {
          "base_uri": "https://localhost:8080/",
          "height": 644
        },
        "id": "cz0Erj2WU3Vh",
        "outputId": "c0b17ba2-4557-4e7d-ad46-e265b8bac2a0"
      },
      "outputs": [
        {
          "data": {
            "image/png": "[encoded data removed]",
            "text/plain": [
              "<IPython.core.display.Image object>"
            ]
          },
          "execution_count": 6,
          "metadata": {},
          "output_type": "execute_result"
        }
      ],
      "source": [
        "tf.keras.utils.plot_model(model, to_file='model.png', show_shapes=True, show_layer_names=False)"
      ]
    },
    {
      "cell_type": "markdown",
      "metadata": {
        "id": "5KdfAoHsGwzo"
      },
      "source": [
        "## Entrenar la LSTM"
      ]
    },
    {
      "cell_type": "code",
      "execution_count": 7,
      "metadata": {
        "colab": {
          "base_uri": "https://localhost:8080/"
        },
        "id": "rEN1vV4nG1V3",
        "outputId": "5b49e568-5f03-4779-9571-307ab67538b1"
      },
      "outputs": [
        {
          "name": "stdout",
          "output_type": "stream",
          "text": [
            "Epoch 1/3\n",
            "79/79 [==============================] - 25s 212ms/step - loss: 0.6052 - accuracy: 0.6703 - val_loss: 0.4200 - val_accuracy: 0.8374\n",
            "Epoch 2/3\n",
            "79/79 [==============================] - 15s 193ms/step - loss: 0.3282 - accuracy: 0.8698 - val_loss: 0.3152 - val_accuracy: 0.8698\n",
            "Epoch 3/3\n",
            "79/79 [==============================] - 13s 162ms/step - loss: 0.2243 - accuracy: 0.9182 - val_loss: 0.2854 - val_accuracy: 0.8850\n"
          ]
        }
      ],
      "source": [
        "# Entrenar la LSTM en los datos de entrenamiento\n",
        "history = model.fit(\n",
        "\n",
        "    # Datos de entrenamiento : características (revisiones) y clases (positivas o negativas)\n",
        "    x_train, y_train,\n",
        "                    \n",
        "    # Número de ejemplos a examinar antes de actualizar los pesos en el \n",
        "    # backpropagation. Cuanto más grande sea el tamaño de batch, más memoria\n",
        "    # necesitaremos\n",
        "    batch_size=256, \n",
        "\n",
        "    # Una época hace tantos batches como sea necesario para agotar el conjunto\n",
        "    # de entrenamiento\n",
        "    epochs=3, \n",
        "    \n",
        "    # Esta fracción de los datos será usada como conjunto de validación, con \n",
        "    # vistas a detener el algoritmo si se está produciendo sobre aprendizaje\n",
        "    validation_split=0.2,\n",
        "    \n",
        "    verbose=1\n",
        ") "
      ]
    },
    {
      "cell_type": "markdown",
      "metadata": {
        "id": "rpCS2-jFH1KY"
      },
      "source": [
        "## Evaluar el modelo con los datos de test y ver el resultado"
      ]
    },
    {
      "cell_type": "code",
      "execution_count": 8,
      "metadata": {
        "colab": {
          "base_uri": "https://localhost:8080/"
        },
        "id": "nPnfxwbnITqV",
        "outputId": "33cab1c7-7d96-49f8-e3e3-13216018d026"
      },
      "outputs": [
        {
          "name": "stdout",
          "output_type": "stream",
          "text": [
            "782/782 [==============================] - 6s 7ms/step\n",
            "              precision    recall  f1-score   support\n",
            "\n",
            "    Negative       0.88      0.87      0.87     12500\n",
            "    Positive       0.87      0.88      0.88     12500\n",
            "\n",
            "    accuracy                           0.88     25000\n",
            "   macro avg       0.88      0.88      0.88     25000\n",
            "weighted avg       0.88      0.88      0.88     25000\n",
            "\n"
          ]
        },
        {
          "data": {
            "text/plain": [
              "<tf.Tensor: shape=(2, 2), dtype=int32, numpy=\n",
              "array([[10854,  1646],\n",
              "       [ 1470, 11030]], dtype=int32)>"
            ]
          },
          "execution_count": 8,
          "metadata": {},
          "output_type": "execute_result"
        }
      ],
      "source": [
        "# Obtener las predicciones para los datos de test\n",
        "from sklearn.metrics import classification_report\n",
        "predicted_probabilities = model.predict(x_test)\n",
        "predicted_classes = predicted_probabilities  > 0.5\n",
        "print(classification_report(y_test, predicted_classes, target_names=class_names))\n",
        "tf.math.confusion_matrix(y_test, predicted_classes)"
      ]
    },
    {
      "cell_type": "markdown",
      "metadata": {
        "id": "CkfHCIVHrJni"
      },
      "source": [
        "## Ver algunas predicciones incorrectas\n",
        "\n",
        "Vamos a echar un vistazo a algunas de las revisiones incorrectamente clasificadas. Eliminaremos el `padding`.\n",
        "\n"
      ]
    },
    {
      "cell_type": "code",
      "execution_count": 9,
      "metadata": {
        "colab": {
          "base_uri": "https://localhost:8080/"
        },
        "id": "bwKLBwBbp7zg",
        "outputId": "e90fb382-db47-4511-a9d1-8383c6f14c74"
      },
      "outputs": [
        {
          "name": "stdout",
          "output_type": "stream",
          "text": [
            "Revisión de test incorrectamente clasificada [1]\n",
            "Revisión de test #3: Predicho [Positive] Objetivo [Negative]\n",
            "Texto de la revisión: <START> i generally love this type of movie however this time i found myself wanting to kick the screen since i can't do that i will just complain about it this was absolutely idiotic the things that happen with the dead kids are very cool but the alive people are absolute idiots i am a grown man pretty big and i can defend myself well however i would not do half the stuff the little girl does in this movie also the mother in this movie is reckless with her children to the point of neglect i wish i wasn't so angry about her and her actions because i would have otherwise enjoyed the flick what a number she was take my advise and fast forward through everything you see her do until the end also is anyone else getting sick of watching movies that are filmed so dark anymore one can hardly see what is being filmed as an audience we are <UNKNOWN> involved with the actions on the screen so then why the hell can't we have night vision\n",
            "\n",
            "Revisión de test incorrectamente clasificada [2]\n",
            "Revisión de test #8: Predicho [Positive] Objetivo [Negative]\n",
            "Texto de la revisión: <START> hollywood had a long love affair with bogus <UNKNOWN> nights tales but few of these products have stood the test of time the most memorable were the jon hall maria <UNKNOWN> films which have long since become camp this one is filled with dubbed songs <UNKNOWN> <UNKNOWN> and slapstick it's a truly crop of corn and pretty near <UNKNOWN> today it was nominated for its imaginative special effects which are almost <UNKNOWN> in this day and age <UNKNOWN> mainly of trick photography the only outstanding positive feature which survives is its beautiful color and clarity sad to say of the many films made in this genre few of them come up to alexander <UNKNOWN> original thief of <UNKNOWN> almost any other <UNKNOWN> nights film is superior to this one though it's a loser\n",
            "\n",
            "Revisión de test incorrectamente clasificada [3]\n",
            "Revisión de test #22: Predicho [Negative] Objetivo [Positive]\n",
            "Texto de la revisión: <START> how managed to avoid attention remains a mystery a potent mix of comedy and crime this one takes chances where tarantino plays it safe with the hollywood formula the risks don't always pay off one character in one sequence comes off <UNKNOWN> silly and falls flat in the lead role thomas jane gives a wonderful and complex performance and two brief appearances by mickey rourke hint at the high potential of this much under and <UNKNOWN> used actor here's a director one should keep one's eye on\n",
            "\n",
            "Revisión de test incorrectamente clasificada [4]\n",
            "Revisión de test #32: Predicho [Positive] Objetivo [Negative]\n",
            "Texto de la revisión: <START> if you have never read the classic science fiction novel this mini series is based on it may actually be good unfortunately if you are a fan of the book you probably won't be able to watch more than the first hour or two all of the political intrigue has been taken out of the film the most important scenes from the book have been taken out characters motivations have been changed completely and words from the wrong characters mouths where in the novel paul was a teen age boy with incredible political skill and a great understanding of the way the world worked in this film he is hot headed and and frustrated avoid this movie at all costs\n",
            "\n",
            "Revisión de test incorrectamente clasificada [5]\n",
            "Revisión de test #55: Predicho [Negative] Objetivo [Positive]\n",
            "Texto de la revisión: <START> this is a special film if you know the context antonioni in his eighties had been crippled by a stroke mute and half <UNKNOWN> his friends who incidentally are the best the film world has arranged for him to a last significant film the idea is that he can <UNKNOWN> a story into being by just looking at it so we have a film about a director who <UNKNOWN> stories by simple observation and the matter of the four stories is about how the visual imagination <UNKNOWN> love br br the film emerges by giving us the tools to bring it into being through our own imagination the result is pure movie world every person except the director is lovely in aspect or movement some of these women are and they exist in a dreamy misty world of sensual encounter there is no nuance no hint that anything exists but what we see no desire is at work other than what we create br br i know of no other film that so successfully <UNKNOWN> our own visual yearning to have us create the world we see he understands something about not touching no one understands van <UNKNOWN> visually like he does <UNKNOWN> <UNKNOWN> space music is <UNKNOWN> on precisely the same notion the sensual touch that implies but doesn't physically touch br br <UNKNOWN> <UNKNOWN> wife appears appropriately as the <UNKNOWN> and she also directs a lackluster <UNKNOWN> <UNKNOWN> film that is on the dvd br br ted's <UNKNOWN> 3 of 4 worth watching\n",
            "\n",
            "Revisión de test incorrectamente clasificada [6]\n",
            "Revisión de test #59: Predicho [Positive] Objetivo [Negative]\n",
            "Texto de la revisión: <START> oh how awfully this movie is i don't know if it is a horror film or a drama cause the story and the both genres are not established very well the story is not moving it is slow boring and sleepy from the beginning to end this movie really <UNKNOWN> me but i really liked the camera work it is authentic fresh and clear the acting is great too the little boy was the great performer in this movie but it hasn't made me to jump from my seat but this movie makes me grab a <UNKNOWN> lay on the bed and sleep until the credits roll br br boring not worth watching i tell you this movie sucked br br 1 10\n",
            "\n",
            "Revisión de test incorrectamente clasificada [7]\n",
            "Revisión de test #66: Predicho [Positive] Objetivo [Negative]\n",
            "Texto de la revisión: forgive me if i don't phrase this correctly i was extremely disappointed that there were no optimistic overtones at all yes we all know that life is full of hard stuff and yes we know that things such as incest do occur but i really find it hard to applaud a movie that has not one piece of joy in it i believe that a director has a responsibility to put it in there somewhere otherwise the movie is all about them and their feelings they have created it for themselves not for an audience br br which i think is the basis of why this movie isn't so great the special features mention that the director wrote the screenplay in a <UNKNOWN> hour sitting the day after he himself tried to end his own life well it may have been <UNKNOWN> for him to do this however the movie <UNKNOWN> of self <UNKNOWN> when you know the story behind why it was written i feel horrid i'm going to write a movie about feeling horrid note i have read the interview with andrew urban and understand why needed to write something to help him through his own issues but i believe there is a line in film that cannot be crossed the line of making a movie purely for your own emotional needs and i feel that this is what has unintentionally happened here br br by his own admission the director had no technical experience at all and sadly this makes the movie come off looking like nothing more than a year twelve media project br br as for any <UNKNOWN> that this movie should be studied at school or that all teenagers should watch it not sure there either because there is a very dangerous line at the end i too have been in a place where i have thought that someone who no longer has to <UNKNOWN> <UNKNOWN> is <UNKNOWN> but as an adult i do worry that this line could be influential on a young viewer that was in a vulnerable frame of mind might be in there to promote discussion but again it reflects no possibility of redemption or joy in this story as a whole in fact it almost <UNKNOWN> that there is more sadness to come br br i haven't seen elephant but i just might go find it given all the comparisons here br br nothing personal here guys i do hope you can make another movie someday and we all have to start out somewhere so forgive me if i've been too harsh i am glad that you are proud of what you created which in the end is what life is all about it's not a movie i would recommend though br br oh i did like the way the time frames often <UNKNOWN> thought that was an interesting way to film br br but the whole its the quiet ones you have to watch we already know that\n",
            "\n",
            "Revisión de test incorrectamente clasificada [8]\n",
            "Revisión de test #75: Predicho [Positive] Objetivo [Negative]\n",
            "Texto de la revisión: <START> the adventures of <UNKNOWN> has to be one of the <UNKNOWN> excuses for a movie i've yet run across you would have to look far and wide to find anything that approaches the level of <UNKNOWN> on display in this movie acting  bad editing  bad direction  bad special effects  bad and laughable plot  bad lighting  bad cinematography  bad costume design  bad and silly everything else  bad watching the adventures of <UNKNOWN> is about as enjoyable as a root <UNKNOWN> even for a fan of bad movies it's a real <UNKNOWN> test this is one for either <UNKNOWN> or lou <UNKNOWN> <UNKNOWN> if any exist br br eight things i learned from watching the adventures of <UNKNOWN> br br 1 if you don't have the budget for real special effects <UNKNOWN> a scene from the previous movie it will look great trust me br br 2 when on a quest to recover take time for frequent stops to oil up you body it worked for <UNKNOWN> and his two amazon companions br br 3 any sword fight use of magic and just about all other day to day activities in ancient <UNKNOWN> created a sound very similar to a game of man or <UNKNOWN> br br 4 some of the ancient greek gods dressed like extras from star wars br br 5 if you need to pad your crappy movie's runtime <UNKNOWN> the title sequence by adding star trek style credits and throw in some overly <UNKNOWN> music it also helps if you've got a previous movie to pull scenes from br br 6 fight scenes move along much <UNKNOWN> if the bad guys attack <UNKNOWN> one at a time br br 7 william <UNKNOWN> did anything for money br br 8 i didn't think it was possible but the adventures of <UNKNOWN> makes the first film <UNKNOWN> 1983 look like an academy award winner\n",
            "\n",
            "Revisión de test incorrectamente clasificada [9]\n",
            "Revisión de test #80: Predicho [Negative] Objetivo [Positive]\n",
            "Texto de la revisión: <START> with the obvious exception of fools horses this was in my opinion david <UNKNOWN> finest series br br coming straight after his tv debut on <UNKNOWN> not <UNKNOWN> your set ' these 13 episodes revealed a <UNKNOWN> of comic timing not seen since the old silent movie days by comparison <UNKNOWN> open all hours and that awful series <UNKNOWN> man' did not come close br br i believe jason banned the series being repeated because it showed him at his <UNKNOWN> shame on him a new generation deserves to enjoy this the series actually <UNKNOWN> in the ratings but that is most likely because it was shown against 'the <UNKNOWN> which aired on bbc at the same time before <UNKNOWN> were <UNKNOWN> br br btw i have only just noticed that his long suffering assistant spencer was played by mark <UNKNOWN> alan <UNKNOWN> off <UNKNOWN> street i am amazed he didn't try to murder edgar <UNKNOWN>\n",
            "\n",
            "Revisión de test incorrectamente clasificada [10]\n",
            "Revisión de test #81: Predicho [Positive] Objetivo [Negative]\n",
            "Texto de la revisión: <START> <UNKNOWN> the tv movie <UNKNOWN> a very twisted and version of the story about the greek superhero paul makes a good attempt to play this hero sean <UNKNOWN> <UNKNOWN> his sam image by playing <UNKNOWN> a thrown in character to make the whole thing a buddy movie picture i almost expected his to say at one point we're in a bad situation mr <UNKNOWN> uh i mean <UNKNOWN> an unexpected good performance comes from timothy dalton one of the lesser james bonds as father love interest looks like paris hilton something which just turned me off right away someone has twisted and the original story into somewhat of a murky and sometimes incomprehensible story the special effects don't help either while the <UNKNOWN> scene does the original story justice the lion and <UNKNOWN> are just well lame i believe the creatures and effects from power rangers <UNKNOWN> across my mind at least twice and the golden <UNKNOWN> felt rushed and very computer generated and they took out one of my favorite parts of what was originally a very cool story the movie can't decide whether it's greek roman or american and it almost ruined the original story a classic epic don't bother looking for this one on the direct to dvd c\n",
            "\n",
            "Revisión de test incorrectamente clasificada [11]\n",
            "Revisión de test #91: Predicho [Negative] Objetivo [Positive]\n",
            "Texto de la revisión: <START> i think this is a great classic monster film for the family the mole what a machine the tall creature with the <UNKNOWN> the flying green <UNKNOWN> or whatever they are and the ape men things the speak <UNKNOWN> with them the battle of the men in rubber suits fighting for a doll for breakfast <UNKNOWN> <UNKNOWN> class what else can i say how would they make a 2002 remake of this one\n",
            "\n",
            "Revisión de test incorrectamente clasificada [12]\n",
            "Revisión de test #100: Predicho [Negative] Objetivo [Positive]\n",
            "Texto de la revisión: <START> a quick glance at the premise of this film would seem to indicate just another dumb <UNKNOWN> <UNKNOWN> <UNKNOWN> slash fest the type where sex equals death and the actors are all annoying stereotypes you actually want to die however delivers considerably more br br rather than focus on bare flesh and gore though there is a little of each no sex however the flick focuses on delivering impending dread <UNKNOWN> tension amidst a lovely <UNKNOWN> backdrop these feelings are further <UNKNOWN> by a cast of realistically likable characters and <UNKNOWN> that are more amoral than cardboard <UNKNOWN> of evil oh yeah george kennedy is here too and when is that not a good thing br br if you liked wrong turn then watch this to see where much of its' <UNKNOWN> came from\n",
            "\n",
            "Revisión de test incorrectamente clasificada [13]\n",
            "Revisión de test #101: Predicho [Negative] Objetivo [Positive]\n",
            "Texto de la revisión: <START> <UNKNOWN> is the first of its kind in turkish cinema and it's way better than i expected those people who say it's neither scary nor funny have a point it's not all that great indeed but it must be kept in mind that everyone involved with the movie is rather amateur so it's basically a maiden voyage and comparing this one to other films such as the 1st class garbage propaganda this movie is pretty damn good br br one thing that must be said it deals with the <UNKNOWN> <UNKNOWN> life in turkey very realistically that's exactly how it goes the scenes that are meant to scare are somewhat cheap and <UNKNOWN> most of them even if not all but that religion lesson scene made me laugh in tears and performs the best acting of this flick as a religion teacher br br it's not a waste of your time go and watch it you'll find it rather amusing especially if you know turkey enough to relate to turkish school lives\n",
            "\n",
            "Revisión de test incorrectamente clasificada [14]\n",
            "Revisión de test #112: Predicho [Positive] Objetivo [Negative]\n",
            "Texto de la revisión: <START> if you want to see a horror film which is horrible and in very bad taste this is definitely the film to view this films starts out with two young teenagers getting wild ideas about going into a chat room and going out on blind dates and quite possibly they will wind up like a little <UNKNOWN> to the slaughter house plenty of blood gore nudity <UNKNOWN> and all kinds of blood <UNKNOWN> <UNKNOWN> and things you will never dream a person is capable of performing on men and women if you like <UNKNOWN> well this kind of <UNKNOWN> deals with heavy heavy <UNKNOWN> and plenty of besides lots of <UNKNOWN> and thread to seal up things on the human body i really hope that this film does not give some sick person in this world the idea to act out these horrors in real life\n",
            "\n",
            "Revisión de test incorrectamente clasificada [15]\n",
            "Revisión de test #115: Predicho [Positive] Objetivo [Negative]\n",
            "Texto de la revisión: <START> while the design and locations and photography are strong <UNKNOWN> in this film it is a turgid and melodramatic affair which demonstrates the limits of cinema to convey truth br br the case is the use of the soundtrack music a mix of <UNKNOWN> and andrew lloyd <UNKNOWN> that plays constantly and <UNKNOWN> and would have made max <UNKNOWN> <UNKNOWN> at its over use as it <UNKNOWN> the audience how difficult how <UNKNOWN> how tortured it is to be an artist and then it really counts the story the details at the end br br this <UNKNOWN> and <UNKNOWN> exploitation of emotions was once well <UNKNOWN> by peter <UNKNOWN> about a <UNKNOWN> <UNKNOWN> book this is not writing this is barbara <UNKNOWN> precisely the same critique can be made of this film a <UNKNOWN> <UNKNOWN> vanity project\n",
            "\n",
            "Revisión de test incorrectamente clasificada [16]\n",
            "Revisión de test #126: Predicho [Negative] Objetivo [Positive]\n",
            "Texto de la revisión: <START> this was answer to fatal attraction and this is a classic film in its own right <UNKNOWN> <UNKNOWN> was good and so was sunny <UNKNOWN> but it was shah rukh khan who shot to fame as the stalker since then he has become a favourite of the <UNKNOWN> <UNKNOWN> <UNKNOWN> le <UNKNOWN> <UNKNOWN> to <UNKNOWN> <UNKNOWN> <UNKNOWN> <UNKNOWN> and de india shah rukh at first appears to be a villain but then towards the end you start to sympathize with him the scripting was superb and the songs were my favourites are too mere and <UNKNOWN> br br after the dismal failure of the underrated <UNKNOWN> <UNKNOWN> fought back with <UNKNOWN> the dialogues were memorable the k k <UNKNOWN> dialogue is often repeated since <UNKNOWN> <UNKNOWN> <UNKNOWN> has slipped bit <UNKNOWN> to <UNKNOWN> <UNKNOWN> was bad but he redeemed himself slightly with <UNKNOWN> <UNKNOWN> which was far far better this was <UNKNOWN> <UNKNOWN> last masterpiece\n",
            "\n",
            "Revisión de test incorrectamente clasificada [17]\n",
            "Revisión de test #130: Predicho [Negative] Objetivo [Positive]\n",
            "Texto de la revisión: <START> i just saw this movie at the berlin film <UNKNOWN> children's program and it just killed me and pretty much everyone else in the audience and make no mistake about it this film belongs into the all time 250 let me tell you that i'm in no way associated with the creators of this film if that's what you come to believe reading this no but this actually is it <UNKNOWN> the kid's film label on it <UNKNOWN> girl is on almost every account a classic as in biblical the story concerns 12 year old <UNKNOWN> <UNKNOWN> julie who is <UNKNOWN> to learn of her <UNKNOWN> <UNKNOWN> illness special surgery in the us would cost 1 5 million and of course nobody could afford that so <UNKNOWN> and her friends <UNKNOWN> and sebastian do what every good kid would and <UNKNOWN> a bank sounds corny don't forget this is not america and is by no means the tear <UNKNOWN> robin williams <UNKNOWN> <UNKNOWN> du <UNKNOWN> nobody takes seriously anyway director <UNKNOWN> set out to make a big budget action comedy for kids and boy did he succeed let me put it this way this film rocks like no kid film and few others did before and there's a whole lot more to it than just the action after about 20 minutes of by the numbers exposition well granted it into a monster that br br effortlessly puts mission impossible to shame the numerous action sequences are masterfully staged and look real expensive take that mummy br br <UNKNOWN> almost every other movie suspense wise no easy they're only kids antics here br br easily <UNKNOWN> a dense story with enough laughs to make jim carrey look for career <UNKNOWN> br br <UNKNOWN> to both damon <UNKNOWN> and karate kid within the same seconds br br comes up with so much wicked humor that side of p c that i can hear the american ratings board wet their pants from over here br br manages to actually be tender and serious and sexy at the same time what am i saying they're kids they're kids <UNKNOWN> watch that last scene br br stars <UNKNOWN> anderson who since last years is everybody's favourite kid actor br br what a ride\n",
            "\n",
            "Revisión de test incorrectamente clasificada [18]\n",
            "Revisión de test #146: Predicho [Negative] Objetivo [Positive]\n",
            "Texto de la revisión: <START> i was shocked to learn that jimmy <UNKNOWN> has left this show does anyone know why i regard james as one of the all time <UNKNOWN> and wasn't surprised he ended up on tv which can be better than the crap you see on the big screen the stories are slick and the camera faster than a <UNKNOWN> bullet <UNKNOWN> forget the rest of the cast james vanessa <UNKNOWN> <UNKNOWN> molly josh mitch also can anyone tell me why on earth there's a crap theme tune on the dvd sets but <UNKNOWN> <UNKNOWN> of a little less conversation is used on the initial nbc <UNKNOWN> does it not make sense to use a tune that you would associate with the gambling <UNKNOWN> of america for dvd releases\n",
            "\n",
            "Revisión de test incorrectamente clasificada [19]\n",
            "Revisión de test #147: Predicho [Positive] Objetivo [Negative]\n",
            "Texto de la revisión: <START> having enjoyed neil <UNKNOWN> writing especially his collaboration with <UNKNOWN> in the dream hunters in the past i figured <UNKNOWN> to be a sure thing and was very disappointed the beginning live action section of the movie was intriguing enough the relationships between the characters was believable and easy to empathize with and i loved the sets the <UNKNOWN> and <UNKNOWN> artwork the subsequent computer generated scenes however were excruciating the dialogue was awkward and pretentious the interaction between the live actors and the cgi horrifying events occurred for the <UNKNOWN> reasons and most events seemed superfluous to whatever plot may have existed i only watched the first twenty or thirty minutes of the movie so i'm not exactly an authority but i strongly recommend that you don't watch any of it at all and stick with <UNKNOWN> strong written work\n",
            "\n",
            "Revisión de test incorrectamente clasificada [20]\n",
            "Revisión de test #152: Predicho [Positive] Objetivo [Negative]\n",
            "Texto de la revisión: <START> i can pretend no knowledge of cinematography or mr <UNKNOWN> but i know <UNKNOWN> and i love her people in july my 14 year old son and i traveled to turkey in search of some remains of the neighborhood where his great grandfather lived until the great <UNKNOWN> of <UNKNOWN> in <UNKNOWN> reading the summary of the film <UNKNOWN> from <UNKNOWN> i thought that perhaps i might learn something more about the forced <UNKNOWN> of modern <UNKNOWN> if i did not have a home in <UNKNOWN> had i not been to <UNKNOWN> 28 times in as many years were i not familiar with dozens of islands and cities in <UNKNOWN> and if i had never enjoyed the friendship of these <UNKNOWN> life <UNKNOWN> people i might have believed that this had something to do with modern <UNKNOWN> as a professor at a new jersey state college let me assure you that i am familiar with the history of the period covered in the film indeed my wife's uncle was murdered by the <UNKNOWN> during the communist grab for power my mother in law lived through the italian invasion and german <UNKNOWN> barely these characters on the screen speak greek they listen to greek music but who are they no they are not even vaguely greek of course they are not people at all but simply <UNKNOWN> they are that which the artist <UNKNOWN> when life does not entirely fit or is <UNKNOWN> to his perception of how it was or should have been all represent some aspect of post wwi <UNKNOWN> that greater outside forces <UNKNOWN> to a fate they didn't deserve as we <UNKNOWN> in the late 70's in america the revolution didn't happen for an <UNKNOWN> artist this is no joke it's in fact grounds to put us through two and a half hours of torment and it's all because the various powers <UNKNOWN> of guards in different colored uniforms didn't allow the generation after the <UNKNOWN> of <UNKNOWN> to follow the call of peace and freedom the music of <UNKNOWN> and his fellow musicians i e the movement the cause this dark surreal <UNKNOWN> <UNKNOWN> the true and heroic efforts of the greek people to sustain their lust for life through the <UNKNOWN> of the 20th century to achieve more than any of their <UNKNOWN> neighbors to have become so politically evolved and <UNKNOWN> integrated\n",
            "\n"
          ]
        }
      ],
      "source": [
        "predicted_classes_reshaped = np.reshape(predicted_classes, 25000)\n",
        "\n",
        "incorrect = np.nonzero(predicted_classes_reshaped!=y_test)[0]\n",
        "\n",
        "# Nos vamos a centrar en las 20 primeras revisiones incorrectas\n",
        "for j, incorrect in enumerate(incorrect[0:20]):\n",
        "    \n",
        "    predicted = class_names[predicted_classes_reshaped[incorrect].astype(int)]\n",
        "    actual = class_names[y_test[incorrect]]\n",
        "    human_readable_review = decode_review(x_test[incorrect])\n",
        "    \n",
        "    print(\"Revisión de test incorrectamente clasificada [\"+ str(j+1) +\"]\") \n",
        "    print(\"Revisión de test #\" + str(incorrect)  + \": Predicho [\"+ predicted + \"] Objetivo [\"+ actual + \"]\")\n",
        "    print(\"Texto de la revisión: \" + human_readable_review.replace(\"<PAD> \", \"\"))\n",
        "    print(\"\")"
      ]
    },
    {
      "cell_type": "markdown",
      "metadata": {
        "id": "OlAfxIoTrtYa"
      },
      "source": [
        "## Prueba tu propio texto como conjunto de test\n",
        "\n",
        "Esta es una forma divertida de comprobar los límites del modelo que hemos entrenado. Debes teclear todo en minúscula y no usar signos de puntuación.\n",
        "\n",
        "Podrás comprobar la predicción del modelo, un valor entre 0 y 1\n"
      ]
    },
    {
      "cell_type": "code",
      "execution_count": null,
      "metadata": {
        "colab": {
          "base_uri": "https://localhost:8080/"
        },
        "id": "UEKEB0DpD_8P",
        "outputId": "2d85d0d5-8343-4b05-e78c-03cbeb9729ca"
      },
      "outputs": [
        {
          "name": "stdout",
          "output_type": "stream",
          "text": [
            "Revisión: this is the best film i have ever seen it is great and fantastic and i loved it\n",
            "Predicción numérica: 0.96299314\n",
            "Clase predicha: Positive\n"
          ]
        }
      ],
      "source": [
        "# Escribe tu propia revisión (EN INGLÉS)\n",
        "#review = \"this was a terrible film with too much sex and violence i walked out halfway through\"\n",
        "review = \"this is the best film i have ever seen it is great and fantastic and i loved it\"\n",
        "#review = \"this was an awful film that i will never see again\"\n",
        "#review = \"absolutely wonderful movie i am sure i will repeat it really worth the money i am delighted with the actors and i think it is epic the best movie from this director it is really fantastic and super\"\n",
        "\n",
        "# Codificamos la revisión (reemplazamos las palabras por los enteros)\n",
        "tmp = []\n",
        "for word in review.split(\" \"):\n",
        "    tmp.append(word_index[word])\n",
        "\n",
        "# Nos aseguramos que la longitud de secuencia es 500\n",
        "tmp_padded = sequence.pad_sequences([tmp], maxlen=review_length) \n",
        "\n",
        "# Introducimos la revisión ya procesada en el modelo\n",
        "rawprediction = model.predict(array([tmp_padded][0]))[0][0]\n",
        "prediction = int(round(rawprediction))\n",
        "\n",
        "# Probamos el modelo y vemos los resultados\n",
        "print(\"Revisión: \" + review)\n",
        "print(\"Predicción numérica: \" + str(rawprediction))\n",
        "print(\"Clase predicha: \" + class_names[prediction])"
      ]
    },
    {
      "cell_type": "markdown",
      "metadata": {
        "id": "zHROnRa9bRQS"
      },
      "source": [
        "## Redes GRU\n",
        "\n",
        "Ahora vamos a repetir el entrenamiento pero con las redes GRU. Recuerda que las redes Gated Recurrent Unit (GRU) implementan una simplificación de la neurona LSTM basada en reducir el número de puertas, parámetros y estaddos de la misma."
      ]
    },
    {
      "cell_type": "code",
      "execution_count": 10,
      "metadata": {
        "colab": {
          "base_uri": "https://localhost:8080/"
        },
        "id": "SAp18yLnZKaL",
        "outputId": "30708700-0a86-4266-e1e7-0f48b78e619d"
      },
      "outputs": [
        {
          "name": "stdout",
          "output_type": "stream",
          "text": [
            "Model: \"sequential_1\"\n",
            "_________________________________________________________________\n",
            " Layer (type)                Output Shape              Param #   \n",
            "=================================================================\n",
            " embedding_1 (Embedding)     (None, 500, 32)           320000    \n",
            "                                                                 \n",
            " dropout_2 (Dropout)         (None, 500, 32)           0         \n",
            "                                                                 \n",
            " gru (GRU)                   (None, 32)                6336      \n",
            "                                                                 \n",
            " dropout_3 (Dropout)         (None, 32)                0         \n",
            "                                                                 \n",
            " dense_1 (Dense)             (None, 1)                 33        \n",
            "                                                                 \n",
            "=================================================================\n",
            "Total params: 326,369\n",
            "Trainable params: 326,369\n",
            "Non-trainable params: 0\n",
            "_________________________________________________________________\n"
          ]
        }
      ],
      "source": [
        "# Pila vacía\n",
        "model = tf.keras.models.Sequential()\n",
        "\n",
        "# Embedding\n",
        "model.add(\n",
        "    tf.keras.layers.Embedding(\n",
        "        input_dim = vocab_size, # Tamaño del vocabulario\n",
        "        output_dim = 32, # Dimensionalidad del embedding\n",
        "        input_length = review_length # Longitud de las secuencias de entrada\n",
        "    )\n",
        ")\n",
        "\n",
        "# Primer Dropout\n",
        "model.add(\n",
        "    tf.keras.layers.Dropout(\n",
        "        rate=0.25 # Poner a cero aleatoriamente un 25% de las neuronas\n",
        "    )\n",
        ")\n",
        "\n",
        "# Capa GRU\n",
        "model.add(\n",
        "    tf.keras.layers.GRU(\n",
        "        units=32 # La capa va a tener 32 neuronas de tipo LSTM\n",
        "    )\n",
        ")\n",
        "\n",
        "# Segundo Dropout\n",
        "model.add(\n",
        "    tf.keras.layers.Dropout(\n",
        "        rate=0.25 # Poner a cero aleatoriamente un 25% de las neuronas\n",
        "    )\n",
        ")\n",
        "\n",
        "# Capa densa final\n",
        "model.add(\n",
        "    tf.keras.layers.Dense(\n",
        "        units=1, # Una única salida\n",
        "        activation='sigmoid' # Función de activación sigmoide\n",
        "    )\n",
        ")\n",
        "\n",
        "# Compilar el modelo\n",
        "model.compile(\n",
        "    loss=tf.keras.losses.binary_crossentropy, # Entropía cruzada\n",
        "    optimizer=tf.keras.optimizers.Adam(), # Optimizador Adam\n",
        "    metrics=['accuracy']) # Métrica de los informes\n",
        "\n",
        "# Mostrar un resumen de la estructura del modelo\n",
        "model.summary()"
      ]
    },
    {
      "cell_type": "code",
      "execution_count": 11,
      "metadata": {
        "colab": {
          "base_uri": "https://localhost:8080/",
          "height": 644
        },
        "id": "07ahFqW9br-2",
        "outputId": "bd9322e5-3c16-4c33-e319-30bb1de7d103"
      },
      "outputs": [
        {
          "data": {
            "image/png": "[encoded data removed]",
            "text/plain": [
              "<IPython.core.display.Image object>"
            ]
          },
          "execution_count": 11,
          "metadata": {},
          "output_type": "execute_result"
        }
      ],
      "source": [
        "# Representar el modelo\n",
        "tf.keras.utils.plot_model(model, to_file='model.png', show_shapes=True, show_layer_names=False)"
      ]
    },
    {
      "cell_type": "code",
      "execution_count": 12,
      "metadata": {
        "colab": {
          "base_uri": "https://localhost:8080/"
        },
        "id": "8LelP9R1bwzW",
        "outputId": "4545b78e-612f-417e-f22f-a0bc09d1a474"
      },
      "outputs": [
        {
          "name": "stdout",
          "output_type": "stream",
          "text": [
            "Epoch 1/3\n",
            "79/79 [==============================] - 24s 282ms/step - loss: 0.6377 - accuracy: 0.6248 - val_loss: 0.4219 - val_accuracy: 0.8128\n",
            "Epoch 2/3\n",
            "79/79 [==============================] - 19s 235ms/step - loss: 0.3274 - accuracy: 0.8634 - val_loss: 0.3183 - val_accuracy: 0.8702\n",
            "Epoch 3/3\n",
            "79/79 [==============================] - 14s 183ms/step - loss: 0.2230 - accuracy: 0.9149 - val_loss: 0.3215 - val_accuracy: 0.8648\n"
          ]
        }
      ],
      "source": [
        "# Entrenar la GRU en los datos\n",
        "history = model.fit(\n",
        "\n",
        "    # Datos de entrenamiento\n",
        "    x_train, y_train,\n",
        "                    \n",
        "    # Tamaño de batch\n",
        "    batch_size=256, \n",
        "\n",
        "    # Número de épocas\n",
        "    epochs=3, \n",
        "    \n",
        "    # Porcentaje de validación\n",
        "    validation_split=0.2,\n",
        "    \n",
        "    verbose=1\n",
        ") "
      ]
    },
    {
      "cell_type": "code",
      "execution_count": 13,
      "metadata": {
        "colab": {
          "base_uri": "https://localhost:8080/"
        },
        "id": "UyQgjOyub02c",
        "outputId": "ede645c7-54c7-4597-f23a-e69d57509cee"
      },
      "outputs": [
        {
          "name": "stdout",
          "output_type": "stream",
          "text": [
            "782/782 [==============================] - 6s 7ms/step\n",
            "              precision    recall  f1-score   support\n",
            "\n",
            "    Negative       0.87      0.86      0.86     12500\n",
            "    Positive       0.86      0.87      0.86     12500\n",
            "\n",
            "    accuracy                           0.86     25000\n",
            "   macro avg       0.86      0.86      0.86     25000\n",
            "weighted avg       0.86      0.86      0.86     25000\n",
            "\n"
          ]
        },
        {
          "data": {
            "text/plain": [
              "<tf.Tensor: shape=(2, 2), dtype=int32, numpy=\n",
              "array([[10694,  1806],\n",
              "       [ 1604, 10896]], dtype=int32)>"
            ]
          },
          "execution_count": 13,
          "metadata": {},
          "output_type": "execute_result"
        }
      ],
      "source": [
        "# Obtener las predicciones para los datos de test\n",
        "from sklearn.metrics import classification_report\n",
        "\n",
        "predicted_probabilities = model.predict(x_test)\n",
        "predicted_classes = predicted_probabilities  > 0.5\n",
        "print(classification_report(y_test, predicted_classes, target_names=class_names))\n",
        "tf.math.confusion_matrix(y_test, predicted_classes)"
      ]
    },
    {
      "cell_type": "markdown",
      "metadata": {
        "id": "NzMNJuepgGJo"
      },
      "source": [
        "## Referencia\n",
        "\n",
        "Este material ha sido elaborado a partir del [cuaderno](https://github.com/markwest1972/LSTM-Example-Google-Colaboratory) de Mark West"
      ]
    },
    {
      "cell_type": "markdown",
      "metadata": {
        "id": "3hjMwl5GdK6E"
      },
      "source": [
        "# Ejercicio\n",
        "Debes probar a repetir el entrenamiento de la red cambiando los parámetros del modelo. Prueba a modificar el tamaño de review (que se estableció a 500) y el número de neuronas de la LSTM o de la GRU (que se estableció a 32). También puedes probar a incrementar el número de épocas. \n",
        "\n",
        "El objetivo es mejorar los resultados obtenidos en el conjunto de test."
      ]
    },
    {
      "cell_type": "code",
      "execution_count": null,
      "metadata": {
        "id": "Q-v812F9dlKi"
      },
      "outputs": [],
      "source": []
    }
  ],
  "metadata": {
    "accelerator": "GPU",
    "colab": {
      "machine_shape": "hm",
      "name": "text_data.ipynb",
      "provenance": []
    },
    "kernelspec": {
      "display_name": "Python 3 (ipykernel)",
      "language": "python",
      "name": "python3"
    },
    "language_info": {
      "codemirror_mode": {
        "name": "ipython",
        "version": 3
      },
      "file_extension": ".py",
      "mimetype": "text/x-python",
      "name": "python",
      "nbconvert_exporter": "python",
      "pygments_lexer": "ipython3",
      "version": "3.9.7"
    }
  },
  "nbformat": 4,
  "nbformat_minor": 0
}
