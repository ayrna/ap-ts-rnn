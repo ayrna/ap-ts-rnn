{
  "cells": [
    {
      "cell_type": "markdown",
      "metadata": {
        "colab_type": "text",
        "id": "view-in-github"
      },
      "source": [
        "<a href=\"https://colab.research.google.com/github/ayrna/ap2122/blob/main/redes_recurrentes/LSTM_IMDB_Sentiment_Example.ipynb\" target=\"_parent\"><img src=\"https://colab.research.google.com/assets/colab-badge.svg\" alt=\"Open In Colab\"/></a>"
      ]
    },
    {
      "cell_type": "markdown",
      "metadata": {
        "id": "WMucfLUS1yhH"
      },
      "source": [
        "## ¿Qué es esto?\n",
        "\n",
        "Este cuaderno de Jupyter contiene código Python para construir una red recurrente LSTM  que proporciona alrededor de un 87-88% de precisión en el dataset *IMDB Movie Review Sentiment Analysis Dataset*. \n",
        "\n",
        "Para más información podéis consultar este [enlace](https://www.bouvet.no/bouvet-deler/explaining-recurrent-neural-networks)."
      ]
    },
    {
      "cell_type": "markdown",
      "metadata": {
        "id": "wFUKGe4x3ala"
      },
      "source": [
        "## Pensado para Google Collaboratory\n",
        "\n",
        "El código está preparado para funcionar en Google Collab. Si queréis ejecutarlo de forma local, tendréis que configurar todos los elementos (Cuda, Tensorflow...).\n",
        "\n",
        "En Google Collab, para conseguir que la red se entrene más rápido deberíamos usar la GPU. En el menú **Entorno de ejecución** elige **Cambiar tipo de entorno de ejecución** y selecciona \"GPU\".\n",
        "\n",
        "No olvides hacer los cambios efectivos pulsando sobre **Reiniciar entorno de ejecución**.\n"
      ]
    },
    {
      "cell_type": "markdown",
      "metadata": {
        "id": "WP1VrbVp3sVu"
      },
      "source": [
        "## Preparándolo todo\n",
        "\n",
        "Al ejecutar este código, puede ser que recibas un *warning* pidiéndote que reinicies el *Entorno de ejecución*. Puedes ignorarlo o reiniciarlo con \"Entorno de ejecución -> Reiniciar entorno de ejecución\" si encuentras algún tipo de problema."
      ]
    },
    {
      "cell_type": "code",
      "execution_count": 1,
      "metadata": {
        "id": "2e3txwbh3q76"
      },
      "outputs": [],
      "source": [
        "# Todos los import necesarios\n",
        "import tensorflow as tf \n",
        "import numpy as np\n",
        "from tensorflow.keras.preprocessing import sequence\n",
        "from numpy import array\n",
        "\n",
        "# Suprimir los warning de tensorflow\n",
        "import logging\n",
        "logging.getLogger('tensorflow').disabled = True\n",
        "\n",
        "# Obtener los datos de \"IMDB Movie Review\", limitando las revisiones\n",
        "# a las 10000 palabras más comunes\n",
        "vocab_size = 10000\n",
        "(x_train, y_train), (x_test, y_test) = tf.keras.datasets.imdb.load_data(num_words=vocab_size)\n",
        "\n",
        "# Maping de las etiquetas\n",
        "class_names = [\"Negative\", \"Positive\"]"
      ]
    },
    {
      "cell_type": "markdown",
      "metadata": {
        "id": "hdyHL8FF0JJy"
      },
      "source": [
        "## Crear un mapeo que nos permita convertir el dataset IMDB a revisiones que podamos leer\n",
        "\n",
        "Las revisiones en el dataset IMDB están codificadas como una secuencia de enteros. Afortunadamente, el dataset también contiene un índice que nos permite volver a una representación tipo texto."
      ]
    },
    {
      "cell_type": "code",
      "execution_count": 2,
      "metadata": {
        "id": "E05AweFu0Imt"
      },
      "outputs": [],
      "source": [
        "# Obtener el índice de palabras del dataset\n",
        "word_index = tf.keras.datasets.imdb.get_word_index()\n",
        "\n",
        "# Asegurarnos de que las palabras \"especiales\" pueden leerse correctamente \n",
        "word_index = {k:(v+3) for k,v in word_index.items()}\n",
        "word_index[\"<PAD>\"] = 0\n",
        "word_index[\"<START>\"] = 1\n",
        "word_index[\"<UNKNOWN>\"] = 2\n",
        "word_index[\"<UNUSED>\"] = 3\n",
        "\n",
        "# Buscar las palabras en el índice y hacer una función que decodifique cada review\n",
        "# Si la palabra no está devolverá '?'\n",
        "reverse_word_index = dict([(value, key) for (key, value) in word_index.items()])\n",
        "def decode_review(text):\n",
        "    return ' '.join([reverse_word_index.get(i, '?') for i in text])"
      ]
    },
    {
      "cell_type": "markdown",
      "metadata": {
        "id": "fFXK-g6G81sC"
      },
      "source": [
        "## Echemos un vistazo a los datos\n",
        "\n",
        "Ahora vamos a ver más de cerca los datos. ¿Cuántas palabras contienen nuestras reviews?\n",
        "\n",
        "¿Qué aspecto tiene una review codificada y decodificada?\n"
      ]
    },
    {
      "cell_type": "code",
      "execution_count": 3,
      "metadata": {
        "colab": {
          "base_uri": "https://localhost:8080/"
        },
        "id": "yD1qHVBn81Y_",
        "outputId": "1444dc50-e5ff-4f18-cbea-9daa73291490"
      },
      "outputs": [
        {
          "name": "stdout",
          "output_type": "stream",
          "text": [
            "Máxima longitud de una revisión: 2494\n",
            "Mínima longitud de una revisión: 7\n",
            "Longitud media de las revisiones: 234.75892\n",
            "\n",
            "Revisión en modo máquina (codificada)\n",
            "  Código de la revisión: [1, 13, 219, 14, 33, 4, 2, 22, 1413, 12, 16, 373, 175, 2711, 1115, 1026, 430, 939, 16, 23, 2444, 25, 43, 697, 89, 12, 16, 170, 8, 130, 262, 19, 32, 4, 665, 7, 4, 2, 322, 5, 4, 1520, 7, 4, 86, 250, 10, 10, 4, 249, 173, 16, 4, 3891, 6, 19, 4, 167, 564, 5, 564, 1325, 36, 805, 8, 216, 638, 17, 2, 21, 25, 100, 376, 507, 4, 2110, 15, 79, 125, 23, 567, 13, 2134, 233, 36, 4852, 2, 5, 81, 1672, 10, 10, 92, 437, 129, 58, 13, 69, 8, 401, 61, 1432, 39, 1286, 46, 7, 12]\n",
            "  Sentimiento: 0\n",
            "\n",
            "Revisión en modo texto\n",
            "  Texto de la revisión: <START> i saw this at the <UNKNOWN> film festival it was awful every clichéd violent rich boy fantasy was on display you just knew how it was going to end especially with all the shots of the <UNKNOWN> wife and the rape of the first girl br br the worst part was the q a with the director writer and writer producer they tried to come across as <UNKNOWN> but you could tell they're the types that get off on violence i bet anything they frequent <UNKNOWN> and do drugs br br don't waste your time i had to keep my boyfriend from walking out of it\n",
            "  Sentimiento: Negative\n"
          ]
        }
      ],
      "source": [
        "# Concatenar los datasets de entrenamiento y de test\n",
        "allreviews = np.concatenate((x_train, x_test), axis=0)\n",
        "\n",
        "# Longitud de las revisiones a largo de los dos conjuntos\n",
        "result = [len(x) for x in allreviews]\n",
        "print(\"Máxima longitud de una revisión: {}\".format(np.max(result)))\n",
        "print(\"Mínima longitud de una revisión: {}\".format(np.min(result)))\n",
        "print(\"Longitud media de las revisiones: {}\".format(np.mean(result)))\n",
        "\n",
        "# Imprimir una revisión concreta y su etiqueta.\n",
        "# Reemplaza el número si quieres ver otra.\n",
        "review_to_print=60\n",
        "print(\"\")\n",
        "print(\"Revisión en modo máquina (codificada)\")\n",
        "print(\"  Código de la revisión: \" + str(x_train[review_to_print]))\n",
        "print(\"  Sentimiento: \" + str(y_train[review_to_print]))\n",
        "print(\"\")\n",
        "print(\"Revisión en modo texto\")\n",
        "print(\"  Texto de la revisión: \" + decode_review(x_train[review_to_print]))\n",
        "print(\"  Sentimiento: \" + class_names[y_train[review_to_print]])\n"
      ]
    },
    {
      "cell_type": "markdown",
      "metadata": {
        "id": "mF-Votm66zD5"
      },
      "source": [
        "## Pre-procesando los datos\n",
        "\n",
        "Tenemos que asegurarnos de que nuestras revisiones tienen siempre la misma\n",
        "longitud, ya que se necesita para establecer los parámetros de la LSTM.\n",
        "\n",
        "Para algunas revisiones tendremos que truncar algunas palabras, mientras que para otras habrá que establecer palabras de relleno (`padding`)."
      ]
    },
    {
      "cell_type": "code",
      "execution_count": 4,
      "metadata": {
        "colab": {
          "base_uri": "https://localhost:8080/"
        },
        "id": "uNtJTLJA6gaT",
        "outputId": "c0c3c5ee-54ec-4234-e7f6-5767e9aa465a"
      },
      "outputs": [
        {
          "name": "stdout",
          "output_type": "stream",
          "text": [
            "Shape de los datos de entrenamiento: (25000, 500)\n",
            "Shape de la etiqueta de entrenamiento (25000,)\n",
            "Shape de los datos de test: (25000, 500)\n",
            "Shape de la etiqueta de test: (25000,)\n",
            "\n",
            "Texto de la revisión (post padding): <PAD> <PAD> <PAD> <PAD> <PAD> <PAD> <PAD> <PAD> <PAD> <PAD> <PAD> <PAD> <PAD> <PAD> <PAD> <PAD> <PAD> <PAD> <PAD> <PAD> <PAD> <PAD> <PAD> <PAD> <PAD> <PAD> <PAD> <PAD> <PAD> <PAD> <PAD> <PAD> <PAD> <PAD> <PAD> <PAD> <PAD> <PAD> <PAD> <PAD> <PAD> <PAD> <PAD> <PAD> <PAD> <PAD> <PAD> <PAD> <PAD> <PAD> <PAD> <PAD> <PAD> <PAD> <PAD> <PAD> <PAD> <PAD> <PAD> <PAD> <PAD> <PAD> <PAD> <PAD> <PAD> <PAD> <PAD> <PAD> <PAD> <PAD> <PAD> <PAD> <PAD> <PAD> <PAD> <PAD> <PAD> <PAD> <PAD> <PAD> <PAD> <PAD> <PAD> <PAD> <PAD> <PAD> <PAD> <PAD> <PAD> <PAD> <PAD> <PAD> <PAD> <PAD> <PAD> <PAD> <PAD> <PAD> <PAD> <PAD> <PAD> <PAD> <PAD> <PAD> <PAD> <PAD> <PAD> <PAD> <PAD> <PAD> <PAD> <PAD> <PAD> <PAD> <PAD> <PAD> <PAD> <PAD> <PAD> <PAD> <PAD> <PAD> <PAD> <PAD> <PAD> <PAD> <PAD> <PAD> <PAD> <PAD> <PAD> <PAD> <PAD> <PAD> <PAD> <PAD> <PAD> <PAD> <PAD> <PAD> <PAD> <PAD> <PAD> <PAD> <PAD> <PAD> <PAD> <PAD> <PAD> <PAD> <PAD> <PAD> <PAD> <PAD> <PAD> <PAD> <PAD> <PAD> <PAD> <PAD> <PAD> <PAD> <PAD> <PAD> <PAD> <PAD> <PAD> <PAD> <PAD> <PAD> <PAD> <PAD> <PAD> <PAD> <PAD> <PAD> <PAD> <PAD> <PAD> <PAD> <PAD> <PAD> <PAD> <PAD> <PAD> <PAD> <PAD> <PAD> <PAD> <PAD> <PAD> <PAD> <PAD> <PAD> <PAD> <PAD> <PAD> <PAD> <PAD> <PAD> <PAD> <PAD> <PAD> <PAD> <PAD> <PAD> <PAD> <PAD> <PAD> <PAD> <PAD> <PAD> <PAD> <PAD> <PAD> <PAD> <PAD> <PAD> <PAD> <PAD> <PAD> <PAD> <PAD> <PAD> <PAD> <PAD> <PAD> <PAD> <PAD> <PAD> <PAD> <PAD> <PAD> <PAD> <PAD> <PAD> <PAD> <PAD> <PAD> <PAD> <PAD> <PAD> <PAD> <PAD> <PAD> <PAD> <PAD> <PAD> <PAD> <PAD> <PAD> <PAD> <PAD> <PAD> <PAD> <PAD> <PAD> <PAD> <PAD> <PAD> <PAD> <PAD> <PAD> <PAD> <PAD> <PAD> <PAD> <PAD> <PAD> <PAD> <PAD> <PAD> <PAD> <PAD> <PAD> <PAD> <PAD> <PAD> <PAD> <PAD> <PAD> <PAD> <PAD> <PAD> <PAD> <PAD> <PAD> <PAD> <PAD> <PAD> <PAD> <PAD> <PAD> <PAD> <PAD> <PAD> <PAD> <PAD> <PAD> <PAD> <PAD> <PAD> <PAD> <PAD> <PAD> <PAD> <PAD> <PAD> <PAD> <PAD> <PAD> <PAD> <PAD> <PAD> <PAD> <PAD> <PAD> <PAD> <PAD> <PAD> <PAD> <PAD> <PAD> <PAD> <PAD> <PAD> <PAD> <PAD> <PAD> <PAD> <PAD> <PAD> <PAD> <PAD> <PAD> <PAD> <PAD> <PAD> <PAD> <PAD> <PAD> <PAD> <PAD> <PAD> <PAD> <PAD> <PAD> <PAD> <PAD> <PAD> <PAD> <PAD> <PAD> <PAD> <PAD> <PAD> <PAD> <PAD> <PAD> <PAD> <PAD> <PAD> <PAD> <PAD> <PAD> <PAD> <PAD> <PAD> <PAD> <PAD> <PAD> <PAD> <PAD> <PAD> <PAD> <PAD> <PAD> <PAD> <PAD> <PAD> <PAD> <PAD> <PAD> <PAD> <PAD> <PAD> <PAD> <PAD> <PAD> <PAD> <PAD> <PAD> <PAD> <START> i saw this at the <UNKNOWN> film festival it was awful every clichéd violent rich boy fantasy was on display you just knew how it was going to end especially with all the shots of the <UNKNOWN> wife and the rape of the first girl br br the worst part was the q a with the director writer and writer producer they tried to come across as <UNKNOWN> but you could tell they're the types that get off on violence i bet anything they frequent <UNKNOWN> and do drugs br br don't waste your time i had to keep my boyfriend from walking out of it\n"
          ]
        }
      ],
      "source": [
        "# Longitud a la que vamos a dejar la ventana\n",
        "review_length = 500\n",
        "\n",
        "# Truncar o rellenar los conjuntos\n",
        "x_train = sequence.pad_sequences(x_train, maxlen = review_length)\n",
        "x_test = sequence.pad_sequences(x_test, maxlen = review_length)\n",
        "\n",
        "# Comprobamos el tamaño de los conjuntos. Revisaremos los datos de entrenamiento\n",
        "# y de test, comprobando que las 25000 revisiones tienen 500 enteros.\n",
        "# Las etiquetas de clase deberían ser 25000, con valores de 0 o 1\n",
        "print(\"Shape de los datos de entrenamiento: \" + str(x_train.shape))\n",
        "print(\"Shape de la etiqueta de entrenamiento \" + str(y_train.shape))\n",
        "print(\"Shape de los datos de test: \" + str(x_test.shape))\n",
        "print(\"Shape de la etiqueta de test: \" + str(y_test.shape))\n",
        "\n",
        "# Note padding is added to start of review, not the end\n",
        "print(\"\")\n",
        "print(\"Texto de la revisión (post padding): \" + decode_review(x_train[60]))"
      ]
    },
    {
      "cell_type": "markdown",
      "metadata": {
        "id": "BfOdV_VCCFee"
      },
      "source": [
        "## Crear y construir una red LSTM recurrente"
      ]
    },
    {
      "cell_type": "code",
      "execution_count": 5,
      "metadata": {
        "colab": {
          "base_uri": "https://localhost:8080/"
        },
        "id": "8nmO8M4aCKwT",
        "outputId": "3c347b89-bb5c-4b58-ef65-7a9e47d7270e"
      },
      "outputs": [
        {
          "name": "stdout",
          "output_type": "stream",
          "text": [
            "Model: \"sequential\"\n",
            "_________________________________________________________________\n",
            " Layer (type)                Output Shape              Param #   \n",
            "=================================================================\n",
            " embedding (Embedding)       (None, 500, 32)           320000    \n",
            "                                                                 \n",
            " dropout (Dropout)           (None, 500, 32)           0         \n",
            "                                                                 \n",
            " lstm (LSTM)                 (None, 32)                8320      \n",
            "                                                                 \n",
            " dropout_1 (Dropout)         (None, 32)                0         \n",
            "                                                                 \n",
            " dense (Dense)               (None, 1)                 33        \n",
            "                                                                 \n",
            "=================================================================\n",
            "Total params: 328,353\n",
            "Trainable params: 328,353\n",
            "Non-trainable params: 0\n",
            "_________________________________________________________________\n"
          ]
        }
      ],
      "source": [
        "# Empezamos definiendo una pila vacía. Usaremos esta pila para ir construyendo\n",
        "# la red, capa por capa\n",
        "model = tf.keras.models.Sequential()\n",
        "\n",
        "# La capa de tipo Embedding proporciona un mapeo (también llamado Word Embedding)\n",
        "# para todas las palabras de nuestro conjunto de entrenamiento. En este embedding,\n",
        "# las palabras que están cerca unas de otras comparten información de contexto \n",
        "# y/o de significado. Esta transformación es aprendida durante el entrenamiento\n",
        "model.add(\n",
        "    tf.keras.layers.Embedding(\n",
        "        input_dim = vocab_size, # Tamaño del vocabulario\n",
        "        output_dim = 32, # Dimensionalidad del embedding\n",
        "        input_length = review_length # Longitud de las secuencias de entrada\n",
        "    )\n",
        ")\n",
        "\n",
        "# Las capas de tipo Dropout combaten el sobre aprendizaje y fuerzan a que el \n",
        "# modelo aprenda múltiples representaciones de los mismos datos, ya que pone a \n",
        "# cero de forma aleatoria algunas de las neuronas durante la fase de \n",
        "# entrenamiento\n",
        "model.add(\n",
        "    tf.keras.layers.Dropout(\n",
        "        rate=0.25 # Poner a cero aleatoriamente un 25% de las neuronas\n",
        "    )\n",
        ")\n",
        "\n",
        "# Aquí es donde viene realmente la capa LSTM. Esta capa va a mirar cada \n",
        "# secuencia de palabras de la revisión junto con sus embeddings y utilizará \n",
        "# ambos elementos para determinar el sentimiento de la revisión\n",
        "model.add(\n",
        "    tf.keras.layers.LSTM(\n",
        "        units=32 # La capa va a tener 32 neuronas de tipo LSTM\n",
        "    )\n",
        ")\n",
        "\n",
        "# Añadir una segunda capa Dropout con el mismo objetivo que la primera\n",
        "model.add(\n",
        "    tf.keras.layers.Dropout(\n",
        "        rate=0.25 # Poner a cero aleatoriamente un 25% de las neuronas\n",
        "    )\n",
        ")\n",
        "\n",
        "# Todas las neuronas LSTM se conectan a un solo nodo en la capa densa. La \n",
        "# función sigmoide determina la salida de este nodo, con un valor entre 0 y 1.\n",
        "# Cuanto más cercano sea a 1, más positiva es la revisión\n",
        "model.add(\n",
        "    tf.keras.layers.Dense(\n",
        "        units=1, # Una única salida\n",
        "        activation='sigmoid' # Función de activación sigmoide\n",
        "    )\n",
        ")\n",
        "\n",
        "# Compilar el modelo\n",
        "model.compile(\n",
        "    loss=tf.keras.losses.binary_crossentropy, # Entropía cruzada\n",
        "    optimizer=tf.keras.optimizers.Adam(), # Optimizador Adam\n",
        "    metrics=['accuracy']) # Métrica de los informes\n",
        "\n",
        "# Mostrar un resumen de la estructura del modelo\n",
        "model.summary()"
      ]
    },
    {
      "cell_type": "markdown",
      "metadata": {
        "id": "8Xx1Q2I8WNI9"
      },
      "source": [
        "## Visualizar el modelo"
      ]
    },
    {
      "cell_type": "code",
      "execution_count": 6,
      "metadata": {
        "colab": {
          "base_uri": "https://localhost:8080/",
          "height": 644
        },
        "id": "cz0Erj2WU3Vh",
        "outputId": "eebfd3d1-7f1c-49cc-999c-439ea103b9e1"
      },
      "outputs": [
        {
          "data": {
            "image/png": "[encoded data removed]",
            "text/plain": [
              "<IPython.core.display.Image object>"
            ]
          },
          "execution_count": 6,
          "metadata": {},
          "output_type": "execute_result"
        }
      ],
      "source": [
        "tf.keras.utils.plot_model(model, to_file='model.png', show_shapes=True, show_layer_names=False)"
      ]
    },
    {
      "cell_type": "markdown",
      "metadata": {
        "id": "5KdfAoHsGwzo"
      },
      "source": [
        "## Entrenar la LSTM"
      ]
    },
    {
      "cell_type": "code",
      "execution_count": 7,
      "metadata": {
        "colab": {
          "base_uri": "https://localhost:8080/"
        },
        "id": "rEN1vV4nG1V3",
        "outputId": "3c3244f6-dbd4-427a-b764-e0f764efd8cf"
      },
      "outputs": [
        {
          "name": "stdout",
          "output_type": "stream",
          "text": [
            "Epoch 1/3\n",
            "79/79 [==============================] - 14s 93ms/step - loss: 0.6087 - accuracy: 0.6690 - val_loss: 0.4179 - val_accuracy: 0.8342\n",
            "Epoch 2/3\n",
            "79/79 [==============================] - 6s 73ms/step - loss: 0.3091 - accuracy: 0.8798 - val_loss: 0.3004 - val_accuracy: 0.8778\n",
            "Epoch 3/3\n",
            "79/79 [==============================] - 6s 70ms/step - loss: 0.2110 - accuracy: 0.9232 - val_loss: 0.3035 - val_accuracy: 0.8852\n"
          ]
        }
      ],
      "source": [
        "# Entrenar la LSTM en los datos de entrenamiento\n",
        "history = model.fit(\n",
        "\n",
        "    # Datos de entrenamiento : características (revisiones) y clases (positivas o negativas)\n",
        "    x_train, y_train,\n",
        "                    \n",
        "    # Número de ejemplos a examinar antes de actualizar los pesos en el \n",
        "    # backpropagation. Cuanto más grande sea el tamaño de batch, más memoria\n",
        "    # necesitaremos\n",
        "    batch_size=256, \n",
        "\n",
        "    # Una época hace tantos batches como sea necesario para agotar el conjunto\n",
        "    # de entrenamiento\n",
        "    epochs=3, \n",
        "    \n",
        "    # Esta fracción de los datos será usada como conjunto de validación, con \n",
        "    # vistas a detener el algoritmo si se está produciendo sobre aprendizaje\n",
        "    validation_split=0.2,\n",
        "    \n",
        "    verbose=1\n",
        ") "
      ]
    },
    {
      "cell_type": "markdown",
      "metadata": {
        "id": "rpCS2-jFH1KY"
      },
      "source": [
        "## Evaluar el modelo con los datos de test y ver el resultado"
      ]
    },
    {
      "cell_type": "code",
      "execution_count": 8,
      "metadata": {
        "colab": {
          "base_uri": "https://localhost:8080/"
        },
        "id": "nPnfxwbnITqV",
        "outputId": "7b0f43bc-6ee0-4e92-8202-00abb580a0ed"
      },
      "outputs": [
        {
          "name": "stdout",
          "output_type": "stream",
          "text": [
            "              precision    recall  f1-score   support\n",
            "\n",
            "    Negative       0.85      0.91      0.88     12500\n",
            "    Positive       0.90      0.84      0.87     12500\n",
            "\n",
            "    accuracy                           0.87     25000\n",
            "   macro avg       0.88      0.87      0.87     25000\n",
            "weighted avg       0.88      0.87      0.87     25000\n",
            "\n"
          ]
        },
        {
          "data": {
            "text/plain": [
              "<tf.Tensor: shape=(2, 2), dtype=int32, numpy=\n",
              "array([[11380,  1120],\n",
              "       [ 2048, 10452]], dtype=int32)>"
            ]
          },
          "execution_count": 8,
          "metadata": {},
          "output_type": "execute_result"
        }
      ],
      "source": [
        "# Obtener las predicciones para los datos de test\n",
        "from sklearn.metrics import classification_report\n",
        "predicted_probabilities = model.predict(x_test)\n",
        "predicted_classes = predicted_probabilities  > 0.5\n",
        "print(classification_report(y_test, predicted_classes, target_names=class_names))\n",
        "tf.math.confusion_matrix(y_test, predicted_classes)"
      ]
    },
    {
      "cell_type": "markdown",
      "metadata": {
        "id": "CkfHCIVHrJni"
      },
      "source": [
        "## Ver algunas predicciones incorrectas\n",
        "\n",
        "Vamos a echar un vistazo a algunas de las revisiones incorrectamente clasificadas. Eliminaremos el `padding`.\n",
        "\n"
      ]
    },
    {
      "cell_type": "code",
      "execution_count": 9,
      "metadata": {
        "colab": {
          "base_uri": "https://localhost:8080/"
        },
        "id": "bwKLBwBbp7zg",
        "outputId": "c0804b31-0119-4c64-e27d-dd8b08a20509"
      },
      "outputs": [
        {
          "name": "stdout",
          "output_type": "stream",
          "text": [
            "Revisión de test incorrectamente clasificada [1]\n",
            "Revisión de test #2: Predicho [Negative] Objetivo [Positive]\n",
            "Texto de la revisión: at a time when motion picture animation of all sorts was in its <UNKNOWN> br br the political <UNKNOWN> of the russian revolution caused <UNKNOWN> to move to paris where one of his first productions <UNKNOWN> was a dark political satire <UNKNOWN> known as <UNKNOWN> or the <UNKNOWN> who wanted a king a strain of black comedy can be found in almost all of films but here it is very dark indeed aimed more at grown ups who can appreciate the satirical aspects than children who would most likely find the climax <UNKNOWN> i'm middle aged and found it pretty <UNKNOWN> myself and indeed <UNKNOWN> of the film intended for english speaking viewers of the 1920s were given title cards filled with <UNKNOWN> and <UNKNOWN> in order to help <UNKNOWN> the sharp <UNKNOWN> of the finale br br our tale is set in a swamp the <UNKNOWN> <UNKNOWN> where the citizens are unhappy with their government and have called a special session to see what they can do to improve matters they decide to <UNKNOWN> <UNKNOWN> for a king the crowds are <UNKNOWN> animated in this opening sequence it couldn't have been easy to make so many frog puppets look alive simultaneously while <UNKNOWN> for his part is depicted as a <UNKNOWN> white <UNKNOWN> guy in the clouds who looks like he'd rather be taking a <UNKNOWN> when <UNKNOWN> sends them a tree like god who regards them the <UNKNOWN> decide that this is no improvement and demand a different king irritated <UNKNOWN> sends them a <UNKNOWN> br br delighted with this <UNKNOWN> looking new king who towers above them the <UNKNOWN> welcome him with a <UNKNOWN> of <UNKNOWN> dressed <UNKNOWN> the mayor steps forward to hand him the key to the <UNKNOWN> as <UNKNOWN> cameras record the event to everyone's horror the <UNKNOWN> promptly eats the mayor and then goes on a merry rampage <UNKNOWN> citizens at random a title card <UNKNOWN> reads news of the king's <UNKNOWN> throughout the kingdom when the now terrified <UNKNOWN> once more <UNKNOWN> <UNKNOWN> for help he loses his temper and <UNKNOWN> their community with lightning <UNKNOWN> the moral of our story delivered by a hapless frog just before he is eaten is let well enough alone br br considering the time period when this startling little film was made and considering the fact that it was made by a russian <UNKNOWN> at the height of that <UNKNOWN> country's civil war it would be easy to see this as a <UNKNOWN> about those events <UNKNOWN> may or may not have had <UNKNOWN> turmoil in mind when he made <UNKNOWN> but whatever <UNKNOWN> his choice of material the film stands as a <UNKNOWN> tale of universal <UNKNOWN> <UNKNOWN> could be the soviet union italy germany or japan in the 1930s or any country of any era that lets its guard down and is overwhelmed by <UNKNOWN> it's a fascinating film even a charming one in its macabre way but its message is no joke\n",
            "\n",
            "Revisión de test incorrectamente clasificada [2]\n",
            "Revisión de test #8: Predicho [Positive] Objetivo [Negative]\n",
            "Texto de la revisión: <START> hollywood had a long love affair with bogus <UNKNOWN> nights tales but few of these products have stood the test of time the most memorable were the jon hall maria <UNKNOWN> films which have long since become camp this one is filled with dubbed songs <UNKNOWN> <UNKNOWN> and slapstick it's a truly crop of corn and pretty near <UNKNOWN> today it was nominated for its imaginative special effects which are almost <UNKNOWN> in this day and age <UNKNOWN> mainly of trick photography the only outstanding positive feature which survives is its beautiful color and clarity sad to say of the many films made in this genre few of them come up to alexander <UNKNOWN> original thief of <UNKNOWN> almost any other <UNKNOWN> nights film is superior to this one though it's a loser\n",
            "\n",
            "Revisión de test incorrectamente clasificada [3]\n",
            "Revisión de test #22: Predicho [Negative] Objetivo [Positive]\n",
            "Texto de la revisión: <START> how managed to avoid attention remains a mystery a potent mix of comedy and crime this one takes chances where tarantino plays it safe with the hollywood formula the risks don't always pay off one character in one sequence comes off <UNKNOWN> silly and falls flat in the lead role thomas jane gives a wonderful and complex performance and two brief appearances by mickey rourke hint at the high potential of this much under and <UNKNOWN> used actor here's a director one should keep one's eye on\n",
            "\n",
            "Revisión de test incorrectamente clasificada [4]\n",
            "Revisión de test #32: Predicho [Positive] Objetivo [Negative]\n",
            "Texto de la revisión: <START> if you have never read the classic science fiction novel this mini series is based on it may actually be good unfortunately if you are a fan of the book you probably won't be able to watch more than the first hour or two all of the political intrigue has been taken out of the film the most important scenes from the book have been taken out characters motivations have been changed completely and words from the wrong characters mouths where in the novel paul was a teen age boy with incredible political skill and a great understanding of the way the world worked in this film he is hot headed and and frustrated avoid this movie at all costs\n",
            "\n",
            "Revisión de test incorrectamente clasificada [5]\n",
            "Revisión de test #49: Predicho [Negative] Objetivo [Positive]\n",
            "Texto de la revisión: <START> i can't understand why imdb users would rate this movie 5 2 10 it really is great very funny i would strongly recommend this movie for all of you adults teenagers and especially children br br the story is about a 14 year old kid who always tell lie at home and school one day he had his <UNKNOWN> of writing a 1000 word story but he didn't so the teacher told him to write it and gave her in 3 hours or he would have to go to summer school yep he wrote it in 2 45 big fat liar i think it was a story of himself on the way to the school he hit a <UNKNOWN> of a famous hollywood producer and he gave him a ride but the kid forgot the story in the <UNKNOWN> he told his parents and the teacher but of course they did not believe him and the movie producer he took the kid's story as his new movie big fat liar when the kid saw the trailer of the movie he told his parents he had written it but they didn't believe so he and his friend had to go to l a to prove one thing the truth is never overrated br br enjoy this great movie you won't be disappointed don't trust the 5 2 10 rate it should be 9 10 believe me br br p s so sorry my english isn't good enough to make a better comment\n",
            "\n",
            "Revisión de test incorrectamente clasificada [6]\n",
            "Revisión de test #55: Predicho [Negative] Objetivo [Positive]\n",
            "Texto de la revisión: <START> this is a special film if you know the context antonioni in his eighties had been crippled by a stroke mute and half <UNKNOWN> his friends who incidentally are the best the film world has arranged for him to a last significant film the idea is that he can <UNKNOWN> a story into being by just looking at it so we have a film about a director who <UNKNOWN> stories by simple observation and the matter of the four stories is about how the visual imagination <UNKNOWN> love br br the film emerges by giving us the tools to bring it into being through our own imagination the result is pure movie world every person except the director is lovely in aspect or movement some of these women are and they exist in a dreamy misty world of sensual encounter there is no nuance no hint that anything exists but what we see no desire is at work other than what we create br br i know of no other film that so successfully <UNKNOWN> our own visual yearning to have us create the world we see he understands something about not touching no one understands van <UNKNOWN> visually like he does <UNKNOWN> <UNKNOWN> space music is <UNKNOWN> on precisely the same notion the sensual touch that implies but doesn't physically touch br br <UNKNOWN> <UNKNOWN> wife appears appropriately as the <UNKNOWN> and she also directs a lackluster <UNKNOWN> <UNKNOWN> film that is on the dvd br br ted's <UNKNOWN> 3 of 4 worth watching\n",
            "\n",
            "Revisión de test incorrectamente clasificada [7]\n",
            "Revisión de test #59: Predicho [Positive] Objetivo [Negative]\n",
            "Texto de la revisión: <START> oh how awfully this movie is i don't know if it is a horror film or a drama cause the story and the both genres are not established very well the story is not moving it is slow boring and sleepy from the beginning to end this movie really <UNKNOWN> me but i really liked the camera work it is authentic fresh and clear the acting is great too the little boy was the great performer in this movie but it hasn't made me to jump from my seat but this movie makes me grab a <UNKNOWN> lay on the bed and sleep until the credits roll br br boring not worth watching i tell you this movie sucked br br 1 10\n",
            "\n",
            "Revisión de test incorrectamente clasificada [8]\n",
            "Revisión de test #66: Predicho [Positive] Objetivo [Negative]\n",
            "Texto de la revisión: forgive me if i don't phrase this correctly i was extremely disappointed that there were no optimistic overtones at all yes we all know that life is full of hard stuff and yes we know that things such as incest do occur but i really find it hard to applaud a movie that has not one piece of joy in it i believe that a director has a responsibility to put it in there somewhere otherwise the movie is all about them and their feelings they have created it for themselves not for an audience br br which i think is the basis of why this movie isn't so great the special features mention that the director wrote the screenplay in a <UNKNOWN> hour sitting the day after he himself tried to end his own life well it may have been <UNKNOWN> for him to do this however the movie <UNKNOWN> of self <UNKNOWN> when you know the story behind why it was written i feel horrid i'm going to write a movie about feeling horrid note i have read the interview with andrew urban and understand why needed to write something to help him through his own issues but i believe there is a line in film that cannot be crossed the line of making a movie purely for your own emotional needs and i feel that this is what has unintentionally happened here br br by his own admission the director had no technical experience at all and sadly this makes the movie come off looking like nothing more than a year twelve media project br br as for any <UNKNOWN> that this movie should be studied at school or that all teenagers should watch it not sure there either because there is a very dangerous line at the end i too have been in a place where i have thought that someone who no longer has to <UNKNOWN> <UNKNOWN> is <UNKNOWN> but as an adult i do worry that this line could be influential on a young viewer that was in a vulnerable frame of mind might be in there to promote discussion but again it reflects no possibility of redemption or joy in this story as a whole in fact it almost <UNKNOWN> that there is more sadness to come br br i haven't seen elephant but i just might go find it given all the comparisons here br br nothing personal here guys i do hope you can make another movie someday and we all have to start out somewhere so forgive me if i've been too harsh i am glad that you are proud of what you created which in the end is what life is all about it's not a movie i would recommend though br br oh i did like the way the time frames often <UNKNOWN> thought that was an interesting way to film br br but the whole its the quiet ones you have to watch we already know that\n",
            "\n",
            "Revisión de test incorrectamente clasificada [9]\n",
            "Revisión de test #80: Predicho [Negative] Objetivo [Positive]\n",
            "Texto de la revisión: <START> with the obvious exception of fools horses this was in my opinion david <UNKNOWN> finest series br br coming straight after his tv debut on <UNKNOWN> not <UNKNOWN> your set ' these 13 episodes revealed a <UNKNOWN> of comic timing not seen since the old silent movie days by comparison <UNKNOWN> open all hours and that awful series <UNKNOWN> man' did not come close br br i believe jason banned the series being repeated because it showed him at his <UNKNOWN> shame on him a new generation deserves to enjoy this the series actually <UNKNOWN> in the ratings but that is most likely because it was shown against 'the <UNKNOWN> which aired on bbc at the same time before <UNKNOWN> were <UNKNOWN> br br btw i have only just noticed that his long suffering assistant spencer was played by mark <UNKNOWN> alan <UNKNOWN> off <UNKNOWN> street i am amazed he didn't try to murder edgar <UNKNOWN>\n",
            "\n",
            "Revisión de test incorrectamente clasificada [10]\n",
            "Revisión de test #100: Predicho [Negative] Objetivo [Positive]\n",
            "Texto de la revisión: <START> a quick glance at the premise of this film would seem to indicate just another dumb <UNKNOWN> <UNKNOWN> <UNKNOWN> slash fest the type where sex equals death and the actors are all annoying stereotypes you actually want to die however delivers considerably more br br rather than focus on bare flesh and gore though there is a little of each no sex however the flick focuses on delivering impending dread <UNKNOWN> tension amidst a lovely <UNKNOWN> backdrop these feelings are further <UNKNOWN> by a cast of realistically likable characters and <UNKNOWN> that are more amoral than cardboard <UNKNOWN> of evil oh yeah george kennedy is here too and when is that not a good thing br br if you liked wrong turn then watch this to see where much of its' <UNKNOWN> came from\n",
            "\n",
            "Revisión de test incorrectamente clasificada [11]\n",
            "Revisión de test #101: Predicho [Negative] Objetivo [Positive]\n",
            "Texto de la revisión: <START> <UNKNOWN> is the first of its kind in turkish cinema and it's way better than i expected those people who say it's neither scary nor funny have a point it's not all that great indeed but it must be kept in mind that everyone involved with the movie is rather amateur so it's basically a maiden voyage and comparing this one to other films such as the 1st class garbage propaganda this movie is pretty damn good br br one thing that must be said it deals with the <UNKNOWN> <UNKNOWN> life in turkey very realistically that's exactly how it goes the scenes that are meant to scare are somewhat cheap and <UNKNOWN> most of them even if not all but that religion lesson scene made me laugh in tears and performs the best acting of this flick as a religion teacher br br it's not a waste of your time go and watch it you'll find it rather amusing especially if you know turkey enough to relate to turkish school lives\n",
            "\n",
            "Revisión de test incorrectamente clasificada [12]\n",
            "Revisión de test #115: Predicho [Positive] Objetivo [Negative]\n",
            "Texto de la revisión: <START> while the design and locations and photography are strong <UNKNOWN> in this film it is a turgid and melodramatic affair which demonstrates the limits of cinema to convey truth br br the case is the use of the soundtrack music a mix of <UNKNOWN> and andrew lloyd <UNKNOWN> that plays constantly and <UNKNOWN> and would have made max <UNKNOWN> <UNKNOWN> at its over use as it <UNKNOWN> the audience how difficult how <UNKNOWN> how tortured it is to be an artist and then it really counts the story the details at the end br br this <UNKNOWN> and <UNKNOWN> exploitation of emotions was once well <UNKNOWN> by peter <UNKNOWN> about a <UNKNOWN> <UNKNOWN> book this is not writing this is barbara <UNKNOWN> precisely the same critique can be made of this film a <UNKNOWN> <UNKNOWN> vanity project\n",
            "\n",
            "Revisión de test incorrectamente clasificada [13]\n",
            "Revisión de test #125: Predicho [Negative] Objetivo [Positive]\n",
            "Texto de la revisión: <START> ok so in any <UNKNOWN> e <UNKNOWN> road runner cartoons we know that is going to set up all sorts of traps for <UNKNOWN> but always himself in various ways that certainly happens in <UNKNOWN> <UNKNOWN> predictable i guess that it is but when you think about it these cartoons show how the more you try to harm someone else the more you get <UNKNOWN> sort of like how <UNKNOWN> duck always tries to <UNKNOWN> bugs <UNKNOWN> integrity but bugs sees around it br br overall this is another classic from the <UNKNOWN> <UNKNOWN> crowd sometimes i think that if we really had wanted to ease cold war tensions we could have just let the soviet union see looney tunes cartoons i'm sure that they would have loved them another great one br br ps i learned on <UNKNOWN> that <UNKNOWN> e middle name is\n",
            "\n",
            "Revisión de test incorrectamente clasificada [14]\n",
            "Revisión de test #130: Predicho [Negative] Objetivo [Positive]\n",
            "Texto de la revisión: <START> i just saw this movie at the berlin film <UNKNOWN> children's program and it just killed me and pretty much everyone else in the audience and make no mistake about it this film belongs into the all time 250 let me tell you that i'm in no way associated with the creators of this film if that's what you come to believe reading this no but this actually is it <UNKNOWN> the kid's film label on it <UNKNOWN> girl is on almost every account a classic as in biblical the story concerns 12 year old <UNKNOWN> <UNKNOWN> julie who is <UNKNOWN> to learn of her <UNKNOWN> <UNKNOWN> illness special surgery in the us would cost 1 5 million and of course nobody could afford that so <UNKNOWN> and her friends <UNKNOWN> and sebastian do what every good kid would and <UNKNOWN> a bank sounds corny don't forget this is not america and is by no means the tear <UNKNOWN> robin williams <UNKNOWN> <UNKNOWN> du <UNKNOWN> nobody takes seriously anyway director <UNKNOWN> set out to make a big budget action comedy for kids and boy did he succeed let me put it this way this film rocks like no kid film and few others did before and there's a whole lot more to it than just the action after about 20 minutes of by the numbers exposition well granted it into a monster that br br effortlessly puts mission impossible to shame the numerous action sequences are masterfully staged and look real expensive take that mummy br br <UNKNOWN> almost every other movie suspense wise no easy they're only kids antics here br br easily <UNKNOWN> a dense story with enough laughs to make jim carrey look for career <UNKNOWN> br br <UNKNOWN> to both damon <UNKNOWN> and karate kid within the same seconds br br comes up with so much wicked humor that side of p c that i can hear the american ratings board wet their pants from over here br br manages to actually be tender and serious and sexy at the same time what am i saying they're kids they're kids <UNKNOWN> watch that last scene br br stars <UNKNOWN> anderson who since last years is everybody's favourite kid actor br br what a ride\n",
            "\n",
            "Revisión de test incorrectamente clasificada [15]\n",
            "Revisión de test #134: Predicho [Negative] Objetivo [Positive]\n",
            "Texto de la revisión: <START> the <UNKNOWN> is a very worthwhile addition to recent re releases from the soviet union director 1977 film <UNKNOWN> the moral <UNKNOWN> of <UNKNOWN> and honor in german occupied russia during the second world war on foot and in a <UNKNOWN> two members of a <UNKNOWN> soviet group leave to locate supplies and are captured by nazi soldiers the focus of the movie is on how each man handles or <UNKNOWN> his moral <UNKNOWN> one chooses dignity and integrity while the other <UNKNOWN> for collaboration with the enemy however in the end he cannot <UNKNOWN> by his selfish decision the film makes much use of slow wide angle pans which shift to extreme closeups and highlight the spiritual <UNKNOWN> within the souls of each man this is not a great film but it does effectively portray an intense moral dilemma against the backdrop of a harsh and <UNKNOWN> soviet wilderness\n",
            "\n",
            "Revisión de test incorrectamente clasificada [16]\n",
            "Revisión de test #140: Predicho [Negative] Objetivo [Positive]\n",
            "Texto de la revisión: <START> <UNKNOWN> the murderous doll from child's play and 2 crappy sequels is dead but his ex girlfriend <UNKNOWN> jennifer <UNKNOWN> gets his remains and using voodoo for <UNKNOWN> <UNKNOWN> him then through circumstances too convoluted to get into she is killed and has her soul put into another doll together they fall in love and kidnap a nice couple nick <UNKNOWN> <UNKNOWN> to take them to <UNKNOWN> coffin to get an <UNKNOWN> to make <UNKNOWN> and <UNKNOWN> real people again br br a lot better than it sounds after the last two sequels to child's play both of which were horrible i was expecting the worst but this actually was lots of fun the movie doesn't take itself seriously for a second seriously how could it and the lines and situations are actually quite funny also there are a few very gory murders thrown in to satisfy us horror fans and the film never stops moving the movie also has a few things usually not found in a horror movie a gay best friend gordon michael who is intelligent and not played for laughs and a sequence in which has his shirt off just to show his muscular body john ritter has a nice cameo too as a sheriff br br the acting is good is young very handsome and likable <UNKNOWN> doesn't have much to do but pulls it off and brad <UNKNOWN> the voice of <UNKNOWN> and <UNKNOWN> are hilarious as the murderous dolls my favorite part is when the dolls have sex don't ask and she asks for a rubber and he responds but i'm made of rubber the special effects are good no lousy cgi here and this is one of the few horror films to mix humor and violence in an entertaining way well worth seeing i give it a 9\n",
            "\n",
            "Revisión de test incorrectamente clasificada [17]\n",
            "Revisión de test #146: Predicho [Negative] Objetivo [Positive]\n",
            "Texto de la revisión: <START> i was shocked to learn that jimmy <UNKNOWN> has left this show does anyone know why i regard james as one of the all time <UNKNOWN> and wasn't surprised he ended up on tv which can be better than the crap you see on the big screen the stories are slick and the camera faster than a <UNKNOWN> bullet <UNKNOWN> forget the rest of the cast james vanessa <UNKNOWN> <UNKNOWN> molly josh mitch also can anyone tell me why on earth there's a crap theme tune on the dvd sets but <UNKNOWN> <UNKNOWN> of a little less conversation is used on the initial nbc <UNKNOWN> does it not make sense to use a tune that you would associate with the gambling <UNKNOWN> of america for dvd releases\n",
            "\n",
            "Revisión de test incorrectamente clasificada [18]\n",
            "Revisión de test #147: Predicho [Positive] Objetivo [Negative]\n",
            "Texto de la revisión: <START> having enjoyed neil <UNKNOWN> writing especially his collaboration with <UNKNOWN> in the dream hunters in the past i figured <UNKNOWN> to be a sure thing and was very disappointed the beginning live action section of the movie was intriguing enough the relationships between the characters was believable and easy to empathize with and i loved the sets the <UNKNOWN> and <UNKNOWN> artwork the subsequent computer generated scenes however were excruciating the dialogue was awkward and pretentious the interaction between the live actors and the cgi horrifying events occurred for the <UNKNOWN> reasons and most events seemed superfluous to whatever plot may have existed i only watched the first twenty or thirty minutes of the movie so i'm not exactly an authority but i strongly recommend that you don't watch any of it at all and stick with <UNKNOWN> strong written work\n",
            "\n",
            "Revisión de test incorrectamente clasificada [19]\n",
            "Revisión de test #154: Predicho [Positive] Objetivo [Negative]\n",
            "Texto de la revisión: <START> i saw this movie many years ago and just for kicks decided to rent it and watch it again the plot is a <UNKNOWN> copy from fright night i did like the hairy vampire and the bug eating driver otherwise it was not good at all\n",
            "\n",
            "Revisión de test incorrectamente clasificada [20]\n",
            "Revisión de test #156: Predicho [Positive] Objetivo [Negative]\n",
            "Texto de la revisión: <START> i rented this when it came out on video <UNKNOWN> in 1995 after <UNKNOWN> it again my idea about it hasn't changed much br br i was an adult then and i'm still an adult now lol br br the illogical elements mentioned by other reviewers didn't bother me this isn't a documentary it's a fantasy story where animals can talk br br while i didn't care for much of the songs i liked the one at the end of the picture where it's sang by barry <UNKNOWN> and another person br br some people seem to make an excuse for it's primitive animation by saying that cgi wasn't used often in animated features but let's not forget that the lion king was released about a year earlier and that packed possibly more excellence than any animated feature that came before it br br but i think it's pretty fair to say that the <UNKNOWN> and the was made on the cheap while the lion king wasn't br br the high points for me in 1995 as well as today is the suspense generated by the few dangerous mostly underwater chase scenes br br i also liked the opening scene which takes place on a music notes page and a little bit of the love story but most of the time the story dragged on and was boring br br worth a look if you like animation but if you're an adult and not a risk taker go get another walt disney production instead of this\n",
            "\n"
          ]
        }
      ],
      "source": [
        "predicted_classes_reshaped = np.reshape(predicted_classes, 25000)\n",
        "\n",
        "incorrect = np.nonzero(predicted_classes_reshaped!=y_test)[0]\n",
        "\n",
        "# Nos vamos a centrar en las 20 primeras revisiones incorrectas\n",
        "for j, incorrect in enumerate(incorrect[0:20]):\n",
        "    \n",
        "    predicted = class_names[predicted_classes_reshaped[incorrect].astype(int)]\n",
        "    actual = class_names[y_test[incorrect]]\n",
        "    human_readable_review = decode_review(x_test[incorrect])\n",
        "    \n",
        "    print(\"Revisión de test incorrectamente clasificada [\"+ str(j+1) +\"]\") \n",
        "    print(\"Revisión de test #\" + str(incorrect)  + \": Predicho [\"+ predicted + \"] Objetivo [\"+ actual + \"]\")\n",
        "    print(\"Texto de la revisión: \" + human_readable_review.replace(\"<PAD> \", \"\"))\n",
        "    print(\"\")"
      ]
    },
    {
      "cell_type": "markdown",
      "metadata": {
        "id": "OlAfxIoTrtYa"
      },
      "source": [
        "## Prueba tu propio texto como conjunto de test\n",
        "\n",
        "Esta es una forma divertida de comprobar los límites del modelo que hemos entrenado. Debes teclear todo en minúscula y no usar signos de puntuación.\n",
        "\n",
        "Podrás comprobar la predicción del modelo, un valor entre 0 y 1\n"
      ]
    },
    {
      "cell_type": "code",
      "execution_count": 10,
      "metadata": {
        "colab": {
          "base_uri": "https://localhost:8080/"
        },
        "id": "UEKEB0DpD_8P",
        "outputId": "2d85d0d5-8343-4b05-e78c-03cbeb9729ca"
      },
      "outputs": [
        {
          "name": "stdout",
          "output_type": "stream",
          "text": [
            "Revisión: this is the best film i have ever seen it is great and fantastic and i loved it\n",
            "Predicción numérica: 0.96299314\n",
            "Clase predicha: Positive\n"
          ]
        }
      ],
      "source": [
        "# Escribe tu propia revisión (EN INGLÉS)\n",
        "#review = \"this was a terrible film with too much sex and violence i walked out halfway through\"\n",
        "review = \"this is the best film i have ever seen it is great and fantastic and i loved it\"\n",
        "#review = \"this was an awful film that i will never see again\"\n",
        "#review = \"absolutely wonderful movie i am sure i will repeat it really worth the money i am delighted with the actors and i think it is epic the best movie from this director it is really fantastic and super\"\n",
        "\n",
        "# Codificamos la revisión (reemplazamos las palabras por los enteros)\n",
        "tmp = []\n",
        "for word in review.split(\" \"):\n",
        "    tmp.append(word_index[word])\n",
        "\n",
        "# Nos aseguramos que la longitud de secuencia es 500\n",
        "tmp_padded = sequence.pad_sequences([tmp], maxlen=review_length) \n",
        "\n",
        "# Introducimos la revisión ya procesada en el modelo\n",
        "rawprediction = model.predict(array([tmp_padded][0]))[0][0]\n",
        "prediction = int(round(rawprediction))\n",
        "\n",
        "# Probamos el modelo y vemos los resultados\n",
        "print(\"Revisión: \" + review)\n",
        "print(\"Predicción numérica: \" + str(rawprediction))\n",
        "print(\"Clase predicha: \" + class_names[prediction])"
      ]
    },
    {
      "cell_type": "markdown",
      "metadata": {
        "id": "zHROnRa9bRQS"
      },
      "source": [
        "## Redes GRU\n",
        "\n",
        "Ahora vamos a repetir el entrenamiento pero con las redes GRU. Recuerda que las redes Gated Recurrent Unit (GRU) implementan una simplificación de la neurona LSTM basada en reducir el número de puertas, parámetros y estaddos de la misma."
      ]
    },
    {
      "cell_type": "code",
      "execution_count": 11,
      "metadata": {
        "colab": {
          "base_uri": "https://localhost:8080/"
        },
        "id": "SAp18yLnZKaL",
        "outputId": "9437422d-ba59-44a9-cfde-34c6dddee694"
      },
      "outputs": [
        {
          "name": "stdout",
          "output_type": "stream",
          "text": [
            "Model: \"sequential_1\"\n",
            "_________________________________________________________________\n",
            " Layer (type)                Output Shape              Param #   \n",
            "=================================================================\n",
            " embedding_1 (Embedding)     (None, 500, 32)           320000    \n",
            "                                                                 \n",
            " dropout_2 (Dropout)         (None, 500, 32)           0         \n",
            "                                                                 \n",
            " gru (GRU)                   (None, 32)                6336      \n",
            "                                                                 \n",
            " dropout_3 (Dropout)         (None, 32)                0         \n",
            "                                                                 \n",
            " dense_1 (Dense)             (None, 1)                 33        \n",
            "                                                                 \n",
            "=================================================================\n",
            "Total params: 326,369\n",
            "Trainable params: 326,369\n",
            "Non-trainable params: 0\n",
            "_________________________________________________________________\n"
          ]
        }
      ],
      "source": [
        "# Pila vacía\n",
        "model = tf.keras.models.Sequential()\n",
        "\n",
        "# Embedding\n",
        "model.add(\n",
        "    tf.keras.layers.Embedding(\n",
        "        input_dim = vocab_size, # Tamaño del vocabulario\n",
        "        output_dim = 32, # Dimensionalidad del embedding\n",
        "        input_length = review_length # Longitud de las secuencias de entrada\n",
        "    )\n",
        ")\n",
        "\n",
        "# Primer Dropout\n",
        "model.add(\n",
        "    tf.keras.layers.Dropout(\n",
        "        rate=0.25 # Poner a cero aleatoriamente un 25% de las neuronas\n",
        "    )\n",
        ")\n",
        "\n",
        "# Capa GRU\n",
        "model.add(\n",
        "    tf.keras.layers.GRU(\n",
        "        units=32 # La capa va a tener 32 neuronas de tipo LSTM\n",
        "    )\n",
        ")\n",
        "\n",
        "# Segundo Dropout\n",
        "model.add(\n",
        "    tf.keras.layers.Dropout(\n",
        "        rate=0.25 # Poner a cero aleatoriamente un 25% de las neuronas\n",
        "    )\n",
        ")\n",
        "\n",
        "# Capa densa final\n",
        "model.add(\n",
        "    tf.keras.layers.Dense(\n",
        "        units=1, # Una única salida\n",
        "        activation='sigmoid' # Función de activación sigmoide\n",
        "    )\n",
        ")\n",
        "\n",
        "# Compilar el modelo\n",
        "model.compile(\n",
        "    loss=tf.keras.losses.binary_crossentropy, # Entropía cruzada\n",
        "    optimizer=tf.keras.optimizers.Adam(), # Optimizador Adam\n",
        "    metrics=['accuracy']) # Métrica de los informes\n",
        "\n",
        "# Mostrar un resumen de la estructura del modelo\n",
        "model.summary()"
      ]
    },
    {
      "cell_type": "code",
      "execution_count": 12,
      "metadata": {
        "colab": {
          "base_uri": "https://localhost:8080/",
          "height": 644
        },
        "id": "07ahFqW9br-2",
        "outputId": "dd7141a5-778d-4d72-fb59-37155290ac3d"
      },
      "outputs": [
        {
          "data": {
            "image/png": "[encoded data removed]",
            "text/plain": [
              "<IPython.core.display.Image object>"
            ]
          },
          "execution_count": 12,
          "metadata": {},
          "output_type": "execute_result"
        }
      ],
      "source": [
        "# Representar el modelo\n",
        "tf.keras.utils.plot_model(model, to_file='model.png', show_shapes=True, show_layer_names=False)"
      ]
    },
    {
      "cell_type": "code",
      "execution_count": 13,
      "metadata": {
        "colab": {
          "base_uri": "https://localhost:8080/"
        },
        "id": "8LelP9R1bwzW",
        "outputId": "23d87661-bd73-47cc-aeba-5cc1c4d3726c"
      },
      "outputs": [
        {
          "name": "stdout",
          "output_type": "stream",
          "text": [
            "Epoch 1/3\n",
            "79/79 [==============================] - 10s 98ms/step - loss: 0.6520 - accuracy: 0.6093 - val_loss: 0.4745 - val_accuracy: 0.7818\n",
            "Epoch 2/3\n",
            "79/79 [==============================] - 6s 82ms/step - loss: 0.3619 - accuracy: 0.8442 - val_loss: 0.3369 - val_accuracy: 0.8568\n",
            "Epoch 3/3\n",
            "79/79 [==============================] - 6s 80ms/step - loss: 0.2425 - accuracy: 0.9078 - val_loss: 0.3124 - val_accuracy: 0.8768\n"
          ]
        }
      ],
      "source": [
        "# Entrenar la GRU en los datos\n",
        "history = model.fit(\n",
        "\n",
        "    # Datos de entrenamiento\n",
        "    x_train, y_train,\n",
        "                    \n",
        "    # Tamaño de batch\n",
        "    batch_size=256, \n",
        "\n",
        "    # Número de épocas\n",
        "    epochs=3, \n",
        "    \n",
        "    # Porcentaje de validación\n",
        "    validation_split=0.2,\n",
        "    \n",
        "    verbose=1\n",
        ") "
      ]
    },
    {
      "cell_type": "code",
      "execution_count": 14,
      "metadata": {
        "colab": {
          "base_uri": "https://localhost:8080/"
        },
        "id": "UyQgjOyub02c",
        "outputId": "65876fe2-fff6-455b-a7a5-89de865fae17"
      },
      "outputs": [
        {
          "name": "stdout",
          "output_type": "stream",
          "text": [
            "              precision    recall  f1-score   support\n",
            "\n",
            "    Negative       0.89      0.84      0.87     12500\n",
            "    Positive       0.85      0.90      0.87     12500\n",
            "\n",
            "    accuracy                           0.87     25000\n",
            "   macro avg       0.87      0.87      0.87     25000\n",
            "weighted avg       0.87      0.87      0.87     25000\n",
            "\n"
          ]
        },
        {
          "data": {
            "text/plain": [
              "<tf.Tensor: shape=(2, 2), dtype=int32, numpy=\n",
              "array([[10551,  1949],\n",
              "       [ 1277, 11223]], dtype=int32)>"
            ]
          },
          "execution_count": 14,
          "metadata": {},
          "output_type": "execute_result"
        }
      ],
      "source": [
        "# Obtener las predicciones para los datos de test\n",
        "from sklearn.metrics import classification_report\n",
        "\n",
        "predicted_probabilities = model.predict(x_test)\n",
        "predicted_classes = predicted_probabilities  > 0.5\n",
        "print(classification_report(y_test, predicted_classes, target_names=class_names))\n",
        "tf.math.confusion_matrix(y_test, predicted_classes)"
      ]
    },
    {
      "cell_type": "markdown",
      "metadata": {
        "id": "NzMNJuepgGJo"
      },
      "source": [
        "## Referencia\n",
        "\n",
        "Este material ha sido elaborado a partir del [cuaderno](https://github.com/markwest1972/LSTM-Example-Google-Colaboratory) de Mark West"
      ]
    },
    {
      "cell_type": "code",
      "execution_count": 14,
      "metadata": {
        "id": "0lV7-2klfgf6"
      },
      "outputs": [],
      "source": []
    }
  ],
  "metadata": {
    "accelerator": "GPU",
    "colab": {
      "collapsed_sections": [],
      "machine_shape": "hm",
      "name": "LSTM_IMDB_Sentiment_Example.ipynb",
      "provenance": []
    },
    "kernelspec": {
      "display_name": "Python 3 (ipykernel)",
      "language": "python",
      "name": "python3"
    },
    "language_info": {
      "codemirror_mode": {
        "name": "ipython",
        "version": 3
      },
      "file_extension": ".py",
      "mimetype": "text/x-python",
      "name": "python",
      "nbconvert_exporter": "python",
      "pygments_lexer": "ipython3",
      "version": "3.9.7"
    }
  },
  "nbformat": 4,
  "nbformat_minor": 0
}
