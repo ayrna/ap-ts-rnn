{
  "cells": [
    {
      "cell_type": "markdown",
      "metadata": {
        "colab_type": "text",
        "id": "view-in-github"
      },
      "source": [
        "<a href=\"https://colab.research.google.com/github/ayrna/ap2122/blob/main/redes_recurrentes/time_series_data.ipynb\" target=\"_parent\"><img src=\"https://colab.research.google.com/assets/colab-badge.svg\" alt=\"Open In Colab\"/></a>"
      ]
    },
    {
      "cell_type": "markdown",
      "metadata": {
        "id": "maINzqlPD1U7"
      },
      "source": [
        "# Utilizar Keras para construir y entrenar redes LSTM con series temporales"
      ]
    },
    {
      "cell_type": "markdown",
      "metadata": {
        "id": "Vd9vw6EID1VB"
      },
      "source": [
        "En este cuaderno, vamos a usar keras para construir una red LSTM que resuelva un problema de predicción en series temporales.\n",
        "\n",
        "El problema que vamos a estudiar es el de predicción de pasajeros de líneas aéreas internacionales. Para este problema se nos da un año y un mes y tenemos que predecir el número de pasajeros de líneas aéreas internacionales en unidades de 1.000. En otras palabras, tenemos que responder a la pregunta: \"Dado el número de pasajeros (en unidades de miles) de este mes, ¿cuál será el número de pasajeros del próximo mes?\". \n",
        "\n",
        "Los datos van de enero de 1949 a diciembre de 1960 con 144 observaciones."
      ]
    },
    {
      "cell_type": "code",
      "execution_count": 1,
      "metadata": {
        "id": "YfSd4kU9D1VF"
      },
      "outputs": [],
      "source": [
        "import tensorflow as tf\n",
        "from tensorflow import keras\n",
        "\n",
        "import numpy\n",
        "import matplotlib.pyplot as plt\n",
        "import pandas as pd\n",
        "import math\n",
        "\n",
        "from tensorflow.keras.utils import to_categorical\n",
        "from tensorflow.keras.models import Sequential\n",
        "from tensorflow.keras.layers import LSTM, Dense, Dropout\n",
        "\n",
        "from sklearn.preprocessing import MinMaxScaler\n",
        "from sklearn.metrics import mean_squared_error"
      ]
    },
    {
      "cell_type": "markdown",
      "metadata": {
        "id": "KMKH3XSCD1VK"
      },
      "source": [
        "El siguiente paso es cargar nuestro conjunto de datos de entrenamiento como un `DataFrame` de Pandas. A continuación, podemos extraer la matriz `numpy` del `DataFrame` y convertir los valores enteros en valores de punto flotante, que son más adecuados para el modelado con una red neuronal."
      ]
    },
    {
      "cell_type": "code",
      "execution_count": 2,
      "metadata": {
        "colab": {
          "base_uri": "https://localhost:8080/",
          "height": 417
        },
        "id": "KU1lHLL4D1VM",
        "outputId": "87cabb03-05fe-42f5-e5e7-1b2acb3af5eb"
      },
      "outputs": [
        {
          "name": "stdout",
          "output_type": "stream",
          "text": [
            "            Passengers\n",
            "Month                 \n",
            "1949-01-01         112\n",
            "1949-02-01         118\n",
            "1949-03-01         132\n",
            "1949-04-01         129\n",
            "1949-05-01         121\n"
          ]
        },
        {
          "data": {
            "image/png": "[encoded data removed]",
            "text/plain": [
              "<Figure size 432x288 with 1 Axes>"
            ]
          },
          "metadata": {
            "needs_background": "light"
          },
          "output_type": "display_data"
        }
      ],
      "source": [
        "# Cargar el conjunto de datos usando pandas\n",
        "\n",
        "try:\n",
        "    url = \"https://raw.githubusercontent.com/jbrownlee/Datasets/master/airline-passengers.csv\"\n",
        "    df = pd.read_csv(url)\n",
        "except:\n",
        "    df = pd.read_csv(\"./data/airline-passengers.csv\")\n",
        "\n",
        "# Dar el formato correcto a la fecha y usarlo como índice\n",
        "df.Month = pd.to_datetime(df.Month)\n",
        "df.set_index('Month', inplace=True)\n",
        "\n",
        "# Mostrar los primeros datos\n",
        "print(df.head())\n",
        "\n",
        "# Usar matplotlib para mostrar la serie\n",
        "df.plot()\n",
        "plt.title(\"Número de pasajeros desde 1949-01 a 1960-12\")\n",
        "plt.ylabel(\"Número de pasajeros\")\n",
        "plt.show()"
      ]
    },
    {
      "cell_type": "markdown",
      "metadata": {
        "id": "8NprbQq4D1VU"
      },
      "source": [
        "Las redes LSTM pueden ser sensibles a la escala de los datos de entrada. Puede ser buena idea rescalar los datos en el rango [0,1]. Para ello, vamos a usar `MinMaxScaler`."
      ]
    },
    {
      "cell_type": "code",
      "execution_count": 3,
      "metadata": {
        "id": "aMlLbw22D1VX"
      },
      "outputs": [],
      "source": [
        "passengers = df['Passengers']\n",
        "scaler = MinMaxScaler(feature_range=(0, 1))\n",
        "dataset = scaler.fit_transform(passengers.values.reshape(-1,1))"
      ]
    },
    {
      "cell_type": "markdown",
      "metadata": {
        "id": "U0uQCuDeD1Vb"
      },
      "source": [
        "Después de modelar nuestros datos y estimar su rendimiento en el conjunto de datos de entrenamiento, tenemos que hacernos una idea de su comportamiento con datos no vistos. Con los datos de series temporales, la secuencia de valores es importante. Un método sencillo que podemos utilizar es dividir el conjunto de datos ordenados en conjuntos de datos de entrenamiento y otro de test. El código siguiente calcula el índice del punto de división y separa los datos en conjuntos de datos de entrenamiento con el 67% de las observaciones que podemos utilizar para entrenar nuestro modelo, dejando el 33% restante para probar el modelo."
      ]
    },
    {
      "cell_type": "code",
      "execution_count": 4,
      "metadata": {
        "id": "9ZpBEIAvD1Vd"
      },
      "outputs": [],
      "source": [
        "train_size = int(len(dataset) * 0.67)\n",
        "test_size = len(dataset) - train_size\n",
        "train, test = dataset[0:train_size,:], dataset[train_size:len(dataset),:]"
      ]
    },
    {
      "cell_type": "markdown",
      "metadata": {
        "id": "HlOgFbeiD1Vm"
      },
      "source": [
        "Ahora vamos a definir una función que va a generar los datos para el entrenamiento de la LSTM.\n",
        "\n",
        "La función toma dos argumentos: el conjunto de datos, que es un array de NumPy que queremos convertir en un conjunto de datos, y el look_back, que es el número de pasos de tiempo anteriores que se utilizarán como variables de entrada para predecir el siguiente período de tiempo - en este caso, por defecto, 1.\n",
        "\n",
        "Este valor predeterminado creará un conjunto de datos donde X es el número de pasajeros en un momento dado (t) e Y es el número de pasajeros en el siguiente momento (t + 1).\n",
        "\n",
        "De esta forma, estamos siguiendo la estrategia `one-to-one`."
      ]
    },
    {
      "cell_type": "code",
      "execution_count": 5,
      "metadata": {
        "id": "epJhKfjZD1Vo"
      },
      "outputs": [],
      "source": [
        "# Convertir un array en un conjunto de datos\n",
        "def create_dataset(dataset, look_back=1):\n",
        "    dataX, dataY = [], []\n",
        "    for i in range(len(dataset)-look_back-1):\n",
        "        a = dataset[i:(i+look_back), 0]\n",
        "        dataX.append(a)\n",
        "        dataY.append(dataset[i + look_back, 0])\n",
        "    return numpy.array(dataX), numpy.array(dataY)"
      ]
    },
    {
      "cell_type": "markdown",
      "metadata": {
        "id": "ht2QEtHED1Vt"
      },
      "source": [
        "Ahora podemos utilizar esta función para preparar los conjuntos de datos de entrenamiento y test para el modelado."
      ]
    },
    {
      "cell_type": "code",
      "execution_count": 6,
      "metadata": {
        "id": "X2IPlM61D1Vv"
      },
      "outputs": [],
      "source": [
        "look_back = 1\n",
        "# Preparar el conjunto de train\n",
        "trainX, trainY = create_dataset(train, look_back)\n",
        "\n",
        "# Preparar el conjunto de test\n",
        "testX, testY = create_dataset(test, look_back)"
      ]
    },
    {
      "cell_type": "markdown",
      "metadata": {
        "id": "YEY2veSr-HMl"
      },
      "source": [
        "Podríamos haber hecho esto de forma más fácil usando el método `shift()`."
      ]
    },
    {
      "cell_type": "markdown",
      "metadata": {
        "id": "54O9X3KtD1V0"
      },
      "source": [
        "La red LSTM espera que los datos de entrada (X) tenga una estructura 3D de la siguiente forma: `[samples, time steps, features]`. Los `samples` son el número de instantes (filas) que vamos a usar para entrenar. En `time_steps` tendremos tantos como entradas reciba a la vez la red por cada instante de tiempo. En `features` vamos a tener las distintas variables que pudiera considerar la red.\n",
        "\n",
        "En nuestro caso, el array es de `[samples, features]`, nos falta una dimensión. Además, `time_steps=1` (`one-to-one`) y `features=1` (univariante). Pero tenemos que convertir la X a 3D. Lo haremos usando `reshape()`."
      ]
    },
    {
      "cell_type": "code",
      "execution_count": 7,
      "metadata": {
        "id": "MoyP9mamD1V1"
      },
      "outputs": [],
      "source": [
        "# Reshape para tener [samples, time steps, features]\n",
        "trainX = trainX.reshape(trainX.shape[0],1,trainX.shape[1])\n",
        "trainX = trainX.reshape(trainX.shape[0],1,trainX.shape[1])"
      ]
    },
    {
      "cell_type": "markdown",
      "metadata": {
        "id": "7WkO51TnD1V3"
      },
      "source": [
        "Ahora ya podemos diseñar nuestra red LSTM para el problema de predicción.\n",
        "\n",
        "Vamos a tener una capa visible con 1 entrada, una capa oculta con 4 bloques LSTM y una capa de salida que realizará una predicción. La función de activación sigmoide se va a usar para los bloques LSTM."
      ]
    },
    {
      "cell_type": "code",
      "execution_count": 8,
      "metadata": {
        "id": "60sMcBIqD1V5"
      },
      "outputs": [],
      "source": [
        "# Crear un modelo secuencial\n",
        "model = Sequential()\n",
        "\n",
        "# Crear una capa LSTM\n",
        "model.add(LSTM(4, input_shape=(1, look_back)))\n",
        "\n",
        "# Crear una capa densa\n",
        "model.add(Dense(1))"
      ]
    },
    {
      "cell_type": "markdown",
      "metadata": {
        "id": "iq4BkeO2D1V9"
      },
      "source": [
        "Ahora compilamos y entrenamos durante 30 épocas con tamaño de batch 1."
      ]
    },
    {
      "cell_type": "code",
      "execution_count": 9,
      "metadata": {
        "colab": {
          "base_uri": "https://localhost:8080/"
        },
        "id": "FafYD1PxD1V-",
        "outputId": "1c37cd6b-ee9a-470f-a8f8-1e681d1cb2b2"
      },
      "outputs": [
        {
          "name": "stdout",
          "output_type": "stream",
          "text": [
            "Epoch 1/30\n",
            "94/94 [==============================] - 4s 5ms/step - loss: 0.0320\n",
            "Epoch 2/30\n",
            "94/94 [==============================] - 1s 7ms/step - loss: 0.0144\n",
            "Epoch 3/30\n",
            "94/94 [==============================] - 0s 4ms/step - loss: 0.0114\n",
            "Epoch 4/30\n",
            "94/94 [==============================] - 0s 5ms/step - loss: 0.0103\n",
            "Epoch 5/30\n",
            "94/94 [==============================] - 0s 4ms/step - loss: 0.0093\n",
            "Epoch 6/30\n",
            "94/94 [==============================] - 0s 3ms/step - loss: 0.0082\n",
            "Epoch 7/30\n",
            "94/94 [==============================] - 0s 4ms/step - loss: 0.0073\n",
            "Epoch 8/30\n",
            "94/94 [==============================] - 0s 3ms/step - loss: 0.0064\n",
            "Epoch 9/30\n",
            "94/94 [==============================] - 0s 3ms/step - loss: 0.0056\n",
            "Epoch 10/30\n",
            "94/94 [==============================] - 0s 4ms/step - loss: 0.0048\n",
            "Epoch 11/30\n",
            "94/94 [==============================] - 0s 3ms/step - loss: 0.0041\n",
            "Epoch 12/30\n",
            "94/94 [==============================] - 0s 3ms/step - loss: 0.0036\n",
            "Epoch 13/30\n",
            "94/94 [==============================] - 0s 3ms/step - loss: 0.0032\n",
            "Epoch 14/30\n",
            "94/94 [==============================] - 0s 5ms/step - loss: 0.0028\n",
            "Epoch 15/30\n",
            "94/94 [==============================] - 0s 3ms/step - loss: 0.0025\n",
            "Epoch 16/30\n",
            "94/94 [==============================] - 0s 3ms/step - loss: 0.0023\n",
            "Epoch 17/30\n",
            "94/94 [==============================] - 0s 3ms/step - loss: 0.0022\n",
            "Epoch 18/30\n",
            "94/94 [==============================] - 0s 3ms/step - loss: 0.0021\n",
            "Epoch 19/30\n",
            "94/94 [==============================] - 0s 3ms/step - loss: 0.0021\n",
            "Epoch 20/30\n",
            "94/94 [==============================] - 0s 3ms/step - loss: 0.0021\n",
            "Epoch 21/30\n",
            "94/94 [==============================] - 0s 3ms/step - loss: 0.0020\n",
            "Epoch 22/30\n",
            "94/94 [==============================] - 0s 4ms/step - loss: 0.0020\n",
            "Epoch 23/30\n",
            "94/94 [==============================] - 0s 4ms/step - loss: 0.0020\n",
            "Epoch 24/30\n",
            "94/94 [==============================] - 0s 3ms/step - loss: 0.0020\n",
            "Epoch 25/30\n",
            "94/94 [==============================] - 0s 4ms/step - loss: 0.0021\n",
            "Epoch 26/30\n",
            "94/94 [==============================] - 0s 3ms/step - loss: 0.0020\n",
            "Epoch 27/30\n",
            "94/94 [==============================] - 0s 3ms/step - loss: 0.0020\n",
            "Epoch 28/30\n",
            "94/94 [==============================] - 0s 3ms/step - loss: 0.0020\n",
            "Epoch 29/30\n",
            "94/94 [==============================] - 0s 5ms/step - loss: 0.0020\n",
            "Epoch 30/30\n",
            "94/94 [==============================] - 0s 4ms/step - loss: 0.0020\n"
          ]
        },
        {
          "data": {
            "text/plain": [
              "<keras.callbacks.History at 0x7f4dd75a0d50>"
            ]
          },
          "execution_count": 9,
          "metadata": {},
          "output_type": "execute_result"
        }
      ],
      "source": [
        "# Compilar el modelo\n",
        "model.compile(optimizer=\"adam\", loss='mean_squared_error')\n",
        "\n",
        "# Entrenar el modelo\n",
        "model.fit(trainX, trainY, epochs=30, batch_size=1)"
      ]
    },
    {
      "cell_type": "markdown",
      "metadata": {
        "id": "26p_v-mjD1WB"
      },
      "source": [
        "Una vez ajustado el modelo, podemos estimar su rendimiento en los conjuntos de datos de entrenamiento y de test. Esto nos dará un punto de comparación para los nuevos modelos.\n",
        "\n",
        "Hay que tener en cuenta que invertimos las predicciones antes de calcular las puntuaciones de error para asegurarnos de que el rendimiento se presenta en las mismas unidades que los datos originales (miles de pasajeros al mes)."
      ]
    },
    {
      "cell_type": "code",
      "execution_count": 10,
      "metadata": {
        "colab": {
          "base_uri": "https://localhost:8080/"
        },
        "id": "J1gwbMRJD1WD",
        "outputId": "75ad87c1-2605-4c37-c34f-35f7cf52ceb9"
      },
      "outputs": [
        {
          "name": "stdout",
          "output_type": "stream",
          "text": [
            "Train Score: 23.18 RMSE\n",
            "Test Score: 47.04 RMSE\n"
          ]
        }
      ],
      "source": [
        "# Realizar las predicciones\n",
        "trainPredict = model.predict(trainX)\n",
        "testPredict = model.predict(testX)\n",
        "# Deshacer la normalización\n",
        "trainPredict = scaler.inverse_transform(trainPredict)\n",
        "trainY = scaler.inverse_transform([trainY])\n",
        "testPredict = scaler.inverse_transform(testPredict)\n",
        "testY = scaler.inverse_transform([testY])\n",
        "# Calcular los error\n",
        "trainScore = math.sqrt(mean_squared_error(trainY[0], trainPredict[:,0]))\n",
        "print('Train Score: %.2f RMSE' % (trainScore))\n",
        "testScore = math.sqrt(mean_squared_error(testY[0], testPredict[:,0]))\n",
        "print('Test Score: %.2f RMSE' % (testScore))"
      ]
    },
    {
      "cell_type": "markdown",
      "metadata": {
        "id": "qSVz1FSXD1WH"
      },
      "source": [
        "Por último, podemos generar predicciones utilizando el modelo para el conjunto de datos de entrenamiento y de test para obtener una indicación visual de la habilidad del modelo.\n",
        "\n",
        "Debido a la forma en que se preparó el conjunto de datos, debemos desplazar las predicciones para que se alineen en el eje x con el conjunto de datos original. Una vez preparados, los datos se representan, mostrando el conjunto de datos original en azul, las predicciones del conjunto de datos de entrenamiento en verde y las predicciones del conjunto de datos de prueba no visto en rojo."
      ]
    },
    {
      "cell_type": "code",
      "execution_count": 11,
      "metadata": {
        "colab": {
          "base_uri": "https://localhost:8080/",
          "height": 281
        },
        "id": "83IgA45VD1WH",
        "outputId": "f448fb96-4c88-47d7-d03a-6851baad6a07"
      },
      "outputs": [
        {
          "data": {
            "image/png": "[encoded data removed]",
            "text/plain": [
              "<Figure size 432x288 with 1 Axes>"
            ]
          },
          "metadata": {
            "needs_background": "light"
          },
          "output_type": "display_data"
        }
      ],
      "source": [
        "# Hacer un shift de las predicciones de entrenamiento para el plot\n",
        "trainPredictPlot = numpy.empty_like(dataset)\n",
        "trainPredictPlot[:, :] = numpy.nan\n",
        "trainPredictPlot[look_back:len(trainPredict)+look_back, :] = trainPredict\n",
        "# Hacer un shift de las predicciones de test para el plot\n",
        "testPredictPlot = numpy.empty_like(dataset)\n",
        "testPredictPlot[:, :] = numpy.nan\n",
        "testPredictPlot[len(trainPredict)+(look_back*2)+1:len(dataset)-1, :] = testPredict\n",
        "\n",
        "# Representar las predicciones\n",
        "plt.title(\"Plot baseline and predictions\")\n",
        "plt.plot(scaler.inverse_transform(dataset))\n",
        "plt.plot(trainPredictPlot)\n",
        "plt.plot(testPredictPlot)\n",
        "plt.show()\n",
        "\n"
      ]
    },
    {
      "cell_type": "markdown",
      "metadata": {
        "id": "IBPijESTD1WK"
      },
      "source": [
        "Como podemos ver, la red ha hecho un magnífico trabajo."
      ]
    },
    {
      "cell_type": "code",
      "execution_count": 11,
      "metadata": {
        "id": "eCiIqHg3D1WK"
      },
      "outputs": [],
      "source": []
    }
  ],
  "metadata": {
    "colab": {
      "collapsed_sections": [],
      "name": "time_series_data.ipynb",
      "provenance": []
    },
    "kernelspec": {
      "display_name": "Python 3 (ipykernel)",
      "language": "python",
      "name": "python3"
    },
    "language_info": {
      "codemirror_mode": {
        "name": "ipython",
        "version": 3
      },
      "file_extension": ".py",
      "mimetype": "text/x-python",
      "name": "python",
      "nbconvert_exporter": "python",
      "pygments_lexer": "ipython3",
      "version": "3.9.7"
    }
  },
  "nbformat": 4,
  "nbformat_minor": 0
}
