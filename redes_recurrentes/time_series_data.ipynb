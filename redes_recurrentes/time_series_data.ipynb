{
  "cells": [
    {
      "cell_type": "markdown",
      "metadata": {
        "id": "view-in-github",
        "colab_type": "text"
      },
      "source": [
        "<a href=\"https://colab.research.google.com/github/ayrna/ap2122/blob/main/redes_recurrentes/time_series_data.ipynb\" target=\"_parent\"><img src=\"https://colab.research.google.com/assets/colab-badge.svg\" alt=\"Open In Colab\"/></a>"
      ]
    },
    {
      "cell_type": "markdown",
      "metadata": {
        "id": "maINzqlPD1U7"
      },
      "source": [
        "# Utilizar Keras para construir y entrenar redes LSTM con series temporales"
      ]
    },
    {
      "cell_type": "markdown",
      "metadata": {
        "id": "Vd9vw6EID1VB"
      },
      "source": [
        "En este cuaderno, vamos a usar keras para construir una red LSTM que resuelva un problema de predicción en series temporales.\n",
        "\n",
        "El problema que vamos a estudiar es el de predicción de pasajeros de líneas aéreas internacionales. Para este problema se nos da un año y un mes y tenemos que predecir el número de pasajeros de líneas aéreas internacionales en unidades de 1.000. En otras palabras, tenemos que responder a la pregunta: \"Dado el número de pasajeros (en unidades de miles) de este mes, ¿cuál será el número de pasajeros del próximo mes?\". \n",
        "\n",
        "Los datos van de enero de 1949 a diciembre de 1960 con 144 observaciones."
      ]
    },
    {
      "cell_type": "code",
      "execution_count": 1,
      "metadata": {
        "id": "YfSd4kU9D1VF"
      },
      "outputs": [],
      "source": [
        "import tensorflow as tf\n",
        "from tensorflow import keras\n",
        "\n",
        "import numpy\n",
        "import matplotlib.pyplot as plt\n",
        "import pandas as pd\n",
        "import math\n",
        "\n",
        "from tensorflow.keras.utils import to_categorical\n",
        "from tensorflow.keras.models import Sequential\n",
        "from tensorflow.keras.layers import LSTM, Dense, Dropout\n",
        "\n",
        "from sklearn.preprocessing import MinMaxScaler\n",
        "from sklearn.metrics import mean_squared_error"
      ]
    },
    {
      "cell_type": "markdown",
      "metadata": {
        "id": "KMKH3XSCD1VK"
      },
      "source": [
        "El siguiente paso es cargar nuestro conjunto de datos de entrenamiento como un `DataFrame` de Pandas. A continuación, podemos extraer la matriz `numpy` del `DataFrame` y convertir los valores enteros en valores de punto flotante, que son más adecuados para el modelado con una red neuronal."
      ]
    },
    {
      "cell_type": "code",
      "execution_count": 2,
      "metadata": {
        "colab": {
          "base_uri": "https://localhost:8080/",
          "height": 417
        },
        "id": "KU1lHLL4D1VM",
        "outputId": "bb6661f4-fc50-4e1c-dfc2-9978893f91db"
      },
      "outputs": [
        {
          "output_type": "stream",
          "name": "stdout",
          "text": [
            "            Passengers\n",
            "Month                 \n",
            "1949-01-01         112\n",
            "1949-02-01         118\n",
            "1949-03-01         132\n",
            "1949-04-01         129\n",
            "1949-05-01         121\n"
          ]
        },
        {
          "output_type": "display_data",
          "data": {
            "image/png": "[encoded data removed]",
            "text/plain": [
              "<Figure size 432x288 with 1 Axes>"
            ]
          },
          "metadata": {
            "needs_background": "light"
          }
        }
      ],
      "source": [
        "# Cargar el conjunto de datos usando pandas\n",
        "try:\n",
        "    url = \"https://raw.githubusercontent.com/jbrownlee/Datasets/master/airline-passengers.csv\"\n",
        "    df = pd.read_csv(url)\n",
        "except:\n",
        "    df = pd.read_csv(\"./data/airline-passengers.csv\")\n",
        "\n",
        "# Dar el formato correcto a la fecha y usarlo como índice\n",
        "df.Month = pd.to_datetime(df.Month)\n",
        "df.set_index('Month', inplace=True)\n",
        "\n",
        "# Mostrar los primeros datos\n",
        "print(df.head())\n",
        "\n",
        "# Usar matplotlib para mostrar la serie\n",
        "df.plot()\n",
        "plt.title(\"Número de pasajeros desde 1949-01 a 1960-12\")\n",
        "plt.ylabel(\"Número de pasajeros\")\n",
        "plt.show()\n",
        "\n",
        "# Fijar la semilla para reproducibilidad \n",
        "numpy.random.seed(7)"
      ]
    },
    {
      "cell_type": "markdown",
      "metadata": {
        "id": "8NprbQq4D1VU"
      },
      "source": [
        "Las redes LSTM pueden ser sensibles a la escala de los datos de entrada. Puede ser buena idea rescalar los datos en el rango [0,1]. Para ello, vamos a usar `MinMaxScaler`."
      ]
    },
    {
      "cell_type": "code",
      "execution_count": 3,
      "metadata": {
        "id": "aMlLbw22D1VX"
      },
      "outputs": [],
      "source": [
        "passengers = df['Passengers']\n",
        "scaler = MinMaxScaler(feature_range=(0, 1))\n",
        "dataset = scaler.fit_transform(passengers.values.reshape(-1,1))"
      ]
    },
    {
      "cell_type": "markdown",
      "metadata": {
        "id": "U0uQCuDeD1Vb"
      },
      "source": [
        "Después de modelar nuestros datos y estimar su rendimiento en el conjunto de datos de entrenamiento, tenemos que hacernos una idea de su comportamiento con datos no vistos. Con los datos de series temporales, la secuencia de valores es importante. Un método sencillo que podemos utilizar es dividir el conjunto de datos ordenados en conjuntos de datos de entrenamiento y otro de test. El código siguiente calcula el índice del punto de división y separa los datos en conjuntos de datos de entrenamiento con el 67% de las observaciones que podemos utilizar para entrenar nuestro modelo, dejando el 33% restante para probar el modelo."
      ]
    },
    {
      "cell_type": "code",
      "execution_count": 4,
      "metadata": {
        "id": "9ZpBEIAvD1Vd"
      },
      "outputs": [],
      "source": [
        "train_size = int(len(dataset) * 0.67)\n",
        "test_size = len(dataset) - train_size\n",
        "train, test = dataset[0:train_size,:], dataset[train_size:len(dataset),:]"
      ]
    },
    {
      "cell_type": "markdown",
      "metadata": {
        "id": "HlOgFbeiD1Vm"
      },
      "source": [
        "Ahora vamos a definir una función que va a generar los datos para el entrenamiento de la LSTM.\n",
        "\n",
        "La función toma dos argumentos: el conjunto de datos, que es un array de NumPy que queremos convertir en un conjunto de datos, y el look_back, que es el número de pasos de tiempo anteriores que se utilizarán como variables de entrada para predecir el siguiente período de tiempo - en este caso, por defecto, 1.\n",
        "\n",
        "Este valor predeterminado creará un conjunto de datos donde X es el número de pasajeros en un momento dado (t) e Y es el número de pasajeros en el siguiente momento (t + 1).\n",
        "\n",
        "De esta forma, estamos siguiendo la estrategia `one-to-one`."
      ]
    },
    {
      "cell_type": "code",
      "execution_count": 5,
      "metadata": {
        "id": "epJhKfjZD1Vo"
      },
      "outputs": [],
      "source": [
        "# Convertir un array en un conjunto de datos\n",
        "def create_dataset(dataset, look_back=1):\n",
        "    dataX, dataY = [], []\n",
        "    for i in range(len(dataset)-look_back-1):\n",
        "        a = dataset[i:(i+look_back), 0]\n",
        "        dataX.append(a)\n",
        "        dataY.append(dataset[i + look_back, 0])\n",
        "    return numpy.array(dataX), numpy.array(dataY)"
      ]
    },
    {
      "cell_type": "markdown",
      "metadata": {
        "id": "ht2QEtHED1Vt"
      },
      "source": [
        "Ahora podemos utilizar esta función para preparar los conjuntos de datos de entrenamiento y test para el modelado."
      ]
    },
    {
      "cell_type": "code",
      "execution_count": 6,
      "metadata": {
        "id": "X2IPlM61D1Vv"
      },
      "outputs": [],
      "source": [
        "look_back = 1\n",
        "# Preparar el conjunto de train\n",
        "trainX, trainY = create_dataset(train, look_back)\n",
        "\n",
        "# Preparar el conjunto de test\n",
        "testX, testY = create_dataset(test, look_back)"
      ]
    },
    {
      "cell_type": "markdown",
      "metadata": {
        "id": "YEY2veSr-HMl"
      },
      "source": [
        "Podríamos haber hecho esto de forma más fácil usando el método `shift()`."
      ]
    },
    {
      "cell_type": "markdown",
      "metadata": {
        "id": "54O9X3KtD1V0"
      },
      "source": [
        "La red LSTM espera que los datos de entrada (X) tenga una estructura 3D de la siguiente forma: `[samples, time steps, features]`. Los `samples` son el número de instantes (filas) que vamos a usar para entrenar. En `time_steps` tendremos tantos como entradas reciba a la vez la red por cada instante de tiempo. En `features` vamos a tener las distintas variables que pudiera considerar la red.\n",
        "\n",
        "En nuestro caso, el array es de `[samples, features]`, nos falta una dimensión. Además, `time_steps=1` (`one-to-one`) y `features=1` (univariante). Pero tenemos que convertir la X a 3D. Lo haremos usando `reshape()`."
      ]
    },
    {
      "cell_type": "code",
      "execution_count": 7,
      "metadata": {
        "id": "MoyP9mamD1V1"
      },
      "outputs": [],
      "source": [
        "# Reshape para tener [samples, time steps, features]\n",
        "trainX = trainX.reshape(trainX.shape[0],1,trainX.shape[1])\n",
        "testX = testX.reshape(testX.shape[0],1,testX.shape[1])"
      ]
    },
    {
      "cell_type": "markdown",
      "metadata": {
        "id": "7WkO51TnD1V3"
      },
      "source": [
        "Ahora ya podemos diseñar nuestra red LSTM para el problema de predicción.\n",
        "\n",
        "Vamos a tener una capa visible con 1 entrada, una capa oculta con 4 bloques LSTM y una capa de salida que realizará una predicción. La función de activación sigmoide se va a usar para los bloques LSTM.\n",
        "\n",
        "La opción `stateful=True` es importante. Hace que la memoria de la LSTM no se resetee después de cada batch. Obliga a especificar el `batch_size`, ya que así sabremos la memoria máxima."
      ]
    },
    {
      "cell_type": "code",
      "execution_count": 8,
      "metadata": {
        "id": "60sMcBIqD1V5"
      },
      "outputs": [],
      "source": [
        "# Tamaño de batch\n",
        "batch_size=1\n",
        "\n",
        "# Crear un modelo secuencial\n",
        "model = Sequential()\n",
        "\n",
        "# Crear una capa LSTM\n",
        "model.add(LSTM(4, input_shape=(1, look_back), batch_input_shape=(batch_size, look_back, 1), stateful=True))\n",
        "\n",
        "# Crear una capa densa\n",
        "model.add(Dense(1))"
      ]
    },
    {
      "cell_type": "markdown",
      "metadata": {
        "id": "iq4BkeO2D1V9"
      },
      "source": [
        "Ahora compilamos y entrenamos durante 150 épocas con tamaño de batch 1.\n",
        "\n",
        "Para forzar a que el estado se resetee una vez hayamos pasado por toda la serie temporal, vamos a incluir un bucle para el número de épocas, en lugar de usar la forma habitual."
      ]
    },
    {
      "cell_type": "code",
      "execution_count": 9,
      "metadata": {
        "colab": {
          "base_uri": "https://localhost:8080/"
        },
        "id": "FafYD1PxD1V-",
        "outputId": "be4fa44f-7b67-4105-ea6c-29f5a77b68ed"
      },
      "outputs": [
        {
          "output_type": "stream",
          "name": "stdout",
          "text": [
            "Época 0\n",
            "94/94 - 3s - loss: 0.0077 - 3s/epoch - 28ms/step\n",
            "Época 1\n",
            "94/94 - 0s - loss: 0.0277 - 241ms/epoch - 3ms/step\n",
            "Época 2\n",
            "94/94 - 0s - loss: 0.0160 - 232ms/epoch - 2ms/step\n",
            "Época 3\n",
            "94/94 - 0s - loss: 0.0100 - 195ms/epoch - 2ms/step\n",
            "Época 4\n",
            "94/94 - 0s - loss: 0.0064 - 252ms/epoch - 3ms/step\n",
            "Época 5\n",
            "94/94 - 0s - loss: 0.0045 - 234ms/epoch - 2ms/step\n",
            "Época 6\n",
            "94/94 - 0s - loss: 0.0041 - 251ms/epoch - 3ms/step\n",
            "Época 7\n",
            "94/94 - 0s - loss: 0.0043 - 279ms/epoch - 3ms/step\n",
            "Época 8\n",
            "94/94 - 0s - loss: 0.0043 - 314ms/epoch - 3ms/step\n",
            "Época 9\n",
            "94/94 - 0s - loss: 0.0043 - 225ms/epoch - 2ms/step\n",
            "Época 10\n",
            "94/94 - 0s - loss: 0.0042 - 266ms/epoch - 3ms/step\n",
            "Época 11\n",
            "94/94 - 0s - loss: 0.0041 - 198ms/epoch - 2ms/step\n",
            "Época 12\n",
            "94/94 - 0s - loss: 0.0041 - 196ms/epoch - 2ms/step\n",
            "Época 13\n",
            "94/94 - 0s - loss: 0.0040 - 200ms/epoch - 2ms/step\n",
            "Época 14\n",
            "94/94 - 0s - loss: 0.0040 - 181ms/epoch - 2ms/step\n",
            "Época 15\n",
            "94/94 - 0s - loss: 0.0040 - 223ms/epoch - 2ms/step\n",
            "Época 16\n",
            "94/94 - 0s - loss: 0.0039 - 191ms/epoch - 2ms/step\n",
            "Época 17\n",
            "94/94 - 0s - loss: 0.0039 - 209ms/epoch - 2ms/step\n",
            "Época 18\n",
            "94/94 - 0s - loss: 0.0038 - 191ms/epoch - 2ms/step\n",
            "Época 19\n",
            "94/94 - 0s - loss: 0.0038 - 211ms/epoch - 2ms/step\n",
            "Época 20\n",
            "94/94 - 0s - loss: 0.0037 - 178ms/epoch - 2ms/step\n",
            "Época 21\n",
            "94/94 - 0s - loss: 0.0037 - 267ms/epoch - 3ms/step\n",
            "Época 22\n",
            "94/94 - 0s - loss: 0.0037 - 253ms/epoch - 3ms/step\n",
            "Época 23\n",
            "94/94 - 0s - loss: 0.0036 - 215ms/epoch - 2ms/step\n",
            "Época 24\n",
            "94/94 - 0s - loss: 0.0036 - 194ms/epoch - 2ms/step\n",
            "Época 25\n",
            "94/94 - 0s - loss: 0.0035 - 255ms/epoch - 3ms/step\n",
            "Época 26\n",
            "94/94 - 0s - loss: 0.0035 - 176ms/epoch - 2ms/step\n",
            "Época 27\n",
            "94/94 - 0s - loss: 0.0035 - 207ms/epoch - 2ms/step\n",
            "Época 28\n",
            "94/94 - 0s - loss: 0.0034 - 208ms/epoch - 2ms/step\n",
            "Época 29\n",
            "94/94 - 0s - loss: 0.0034 - 263ms/epoch - 3ms/step\n",
            "Época 30\n",
            "94/94 - 0s - loss: 0.0033 - 302ms/epoch - 3ms/step\n",
            "Época 31\n",
            "94/94 - 0s - loss: 0.0033 - 276ms/epoch - 3ms/step\n",
            "Época 32\n",
            "94/94 - 0s - loss: 0.0032 - 325ms/epoch - 3ms/step\n",
            "Época 33\n",
            "94/94 - 0s - loss: 0.0032 - 324ms/epoch - 3ms/step\n",
            "Época 34\n",
            "94/94 - 0s - loss: 0.0032 - 307ms/epoch - 3ms/step\n",
            "Época 35\n",
            "94/94 - 0s - loss: 0.0031 - 246ms/epoch - 3ms/step\n",
            "Época 36\n",
            "94/94 - 0s - loss: 0.0031 - 219ms/epoch - 2ms/step\n",
            "Época 37\n",
            "94/94 - 0s - loss: 0.0030 - 250ms/epoch - 3ms/step\n",
            "Época 38\n",
            "94/94 - 0s - loss: 0.0030 - 194ms/epoch - 2ms/step\n",
            "Época 39\n",
            "94/94 - 0s - loss: 0.0029 - 231ms/epoch - 2ms/step\n",
            "Época 40\n",
            "94/94 - 0s - loss: 0.0029 - 201ms/epoch - 2ms/step\n",
            "Época 41\n",
            "94/94 - 0s - loss: 0.0028 - 235ms/epoch - 3ms/step\n",
            "Época 42\n",
            "94/94 - 0s - loss: 0.0028 - 203ms/epoch - 2ms/step\n",
            "Época 43\n",
            "94/94 - 0s - loss: 0.0028 - 192ms/epoch - 2ms/step\n",
            "Época 44\n",
            "94/94 - 0s - loss: 0.0027 - 223ms/epoch - 2ms/step\n",
            "Época 45\n",
            "94/94 - 0s - loss: 0.0027 - 324ms/epoch - 3ms/step\n",
            "Época 46\n",
            "94/94 - 0s - loss: 0.0026 - 184ms/epoch - 2ms/step\n",
            "Época 47\n",
            "94/94 - 0s - loss: 0.0026 - 178ms/epoch - 2ms/step\n",
            "Época 48\n",
            "94/94 - 0s - loss: 0.0025 - 277ms/epoch - 3ms/step\n",
            "Época 49\n",
            "94/94 - 0s - loss: 0.0025 - 298ms/epoch - 3ms/step\n",
            "Época 50\n",
            "94/94 - 0s - loss: 0.0025 - 296ms/epoch - 3ms/step\n",
            "Época 51\n",
            "94/94 - 0s - loss: 0.0024 - 202ms/epoch - 2ms/step\n",
            "Época 52\n",
            "94/94 - 0s - loss: 0.0024 - 248ms/epoch - 3ms/step\n",
            "Época 53\n",
            "94/94 - 0s - loss: 0.0023 - 229ms/epoch - 2ms/step\n",
            "Época 54\n",
            "94/94 - 0s - loss: 0.0023 - 285ms/epoch - 3ms/step\n",
            "Época 55\n",
            "94/94 - 0s - loss: 0.0023 - 264ms/epoch - 3ms/step\n",
            "Época 56\n",
            "94/94 - 0s - loss: 0.0022 - 252ms/epoch - 3ms/step\n",
            "Época 57\n",
            "94/94 - 0s - loss: 0.0022 - 214ms/epoch - 2ms/step\n",
            "Época 58\n",
            "94/94 - 0s - loss: 0.0022 - 238ms/epoch - 3ms/step\n",
            "Época 59\n",
            "94/94 - 0s - loss: 0.0021 - 228ms/epoch - 2ms/step\n",
            "Época 60\n",
            "94/94 - 0s - loss: 0.0021 - 222ms/epoch - 2ms/step\n",
            "Época 61\n",
            "94/94 - 0s - loss: 0.0021 - 229ms/epoch - 2ms/step\n",
            "Época 62\n",
            "94/94 - 0s - loss: 0.0020 - 189ms/epoch - 2ms/step\n",
            "Época 63\n",
            "94/94 - 0s - loss: 0.0020 - 222ms/epoch - 2ms/step\n",
            "Época 64\n",
            "94/94 - 0s - loss: 0.0020 - 185ms/epoch - 2ms/step\n",
            "Época 65\n",
            "94/94 - 0s - loss: 0.0020 - 229ms/epoch - 2ms/step\n",
            "Época 66\n",
            "94/94 - 0s - loss: 0.0019 - 305ms/epoch - 3ms/step\n",
            "Época 67\n",
            "94/94 - 0s - loss: 0.0019 - 241ms/epoch - 3ms/step\n",
            "Época 68\n",
            "94/94 - 0s - loss: 0.0019 - 185ms/epoch - 2ms/step\n",
            "Época 69\n",
            "94/94 - 0s - loss: 0.0019 - 208ms/epoch - 2ms/step\n",
            "Época 70\n",
            "94/94 - 0s - loss: 0.0019 - 217ms/epoch - 2ms/step\n",
            "Época 71\n",
            "94/94 - 0s - loss: 0.0018 - 202ms/epoch - 2ms/step\n",
            "Época 72\n",
            "94/94 - 0s - loss: 0.0018 - 248ms/epoch - 3ms/step\n",
            "Época 73\n",
            "94/94 - 0s - loss: 0.0018 - 270ms/epoch - 3ms/step\n",
            "Época 74\n",
            "94/94 - 0s - loss: 0.0018 - 193ms/epoch - 2ms/step\n",
            "Época 75\n",
            "94/94 - 0s - loss: 0.0018 - 197ms/epoch - 2ms/step\n",
            "Época 76\n",
            "94/94 - 0s - loss: 0.0018 - 249ms/epoch - 3ms/step\n",
            "Época 77\n",
            "94/94 - 0s - loss: 0.0018 - 221ms/epoch - 2ms/step\n",
            "Época 78\n",
            "94/94 - 0s - loss: 0.0017 - 280ms/epoch - 3ms/step\n",
            "Época 79\n",
            "94/94 - 0s - loss: 0.0017 - 209ms/epoch - 2ms/step\n",
            "Época 80\n",
            "94/94 - 0s - loss: 0.0017 - 149ms/epoch - 2ms/step\n",
            "Época 81\n",
            "94/94 - 0s - loss: 0.0017 - 139ms/epoch - 1ms/step\n",
            "Época 82\n",
            "94/94 - 0s - loss: 0.0017 - 126ms/epoch - 1ms/step\n",
            "Época 83\n",
            "94/94 - 0s - loss: 0.0017 - 137ms/epoch - 1ms/step\n",
            "Época 84\n",
            "94/94 - 0s - loss: 0.0017 - 124ms/epoch - 1ms/step\n",
            "Época 85\n",
            "94/94 - 0s - loss: 0.0017 - 131ms/epoch - 1ms/step\n",
            "Época 86\n",
            "94/94 - 0s - loss: 0.0017 - 129ms/epoch - 1ms/step\n",
            "Época 87\n",
            "94/94 - 0s - loss: 0.0017 - 130ms/epoch - 1ms/step\n",
            "Época 88\n",
            "94/94 - 0s - loss: 0.0016 - 133ms/epoch - 1ms/step\n",
            "Época 89\n",
            "94/94 - 0s - loss: 0.0016 - 125ms/epoch - 1ms/step\n",
            "Época 90\n",
            "94/94 - 0s - loss: 0.0016 - 131ms/epoch - 1ms/step\n",
            "Época 91\n",
            "94/94 - 0s - loss: 0.0016 - 131ms/epoch - 1ms/step\n",
            "Época 92\n",
            "94/94 - 0s - loss: 0.0016 - 127ms/epoch - 1ms/step\n",
            "Época 93\n",
            "94/94 - 0s - loss: 0.0016 - 129ms/epoch - 1ms/step\n",
            "Época 94\n",
            "94/94 - 0s - loss: 0.0016 - 134ms/epoch - 1ms/step\n",
            "Época 95\n",
            "94/94 - 0s - loss: 0.0016 - 135ms/epoch - 1ms/step\n",
            "Época 96\n",
            "94/94 - 0s - loss: 0.0016 - 123ms/epoch - 1ms/step\n",
            "Época 97\n",
            "94/94 - 0s - loss: 0.0016 - 128ms/epoch - 1ms/step\n",
            "Época 98\n",
            "94/94 - 0s - loss: 0.0016 - 133ms/epoch - 1ms/step\n",
            "Época 99\n",
            "94/94 - 0s - loss: 0.0016 - 141ms/epoch - 1ms/step\n",
            "Época 100\n",
            "94/94 - 0s - loss: 0.0016 - 136ms/epoch - 1ms/step\n",
            "Época 101\n",
            "94/94 - 0s - loss: 0.0016 - 126ms/epoch - 1ms/step\n",
            "Época 102\n",
            "94/94 - 0s - loss: 0.0016 - 136ms/epoch - 1ms/step\n",
            "Época 103\n",
            "94/94 - 0s - loss: 0.0016 - 127ms/epoch - 1ms/step\n",
            "Época 104\n",
            "94/94 - 0s - loss: 0.0016 - 136ms/epoch - 1ms/step\n",
            "Época 105\n",
            "94/94 - 0s - loss: 0.0016 - 137ms/epoch - 1ms/step\n",
            "Época 106\n",
            "94/94 - 0s - loss: 0.0016 - 129ms/epoch - 1ms/step\n",
            "Época 107\n",
            "94/94 - 0s - loss: 0.0016 - 129ms/epoch - 1ms/step\n",
            "Época 108\n",
            "94/94 - 0s - loss: 0.0016 - 134ms/epoch - 1ms/step\n",
            "Época 109\n",
            "94/94 - 0s - loss: 0.0016 - 127ms/epoch - 1ms/step\n",
            "Época 110\n",
            "94/94 - 0s - loss: 0.0016 - 140ms/epoch - 1ms/step\n",
            "Época 111\n",
            "94/94 - 0s - loss: 0.0016 - 130ms/epoch - 1ms/step\n",
            "Época 112\n",
            "94/94 - 0s - loss: 0.0016 - 131ms/epoch - 1ms/step\n",
            "Época 113\n",
            "94/94 - 0s - loss: 0.0016 - 124ms/epoch - 1ms/step\n",
            "Época 114\n",
            "94/94 - 0s - loss: 0.0016 - 127ms/epoch - 1ms/step\n",
            "Época 115\n",
            "94/94 - 0s - loss: 0.0016 - 134ms/epoch - 1ms/step\n",
            "Época 116\n",
            "94/94 - 0s - loss: 0.0016 - 128ms/epoch - 1ms/step\n",
            "Época 117\n",
            "94/94 - 0s - loss: 0.0016 - 130ms/epoch - 1ms/step\n",
            "Época 118\n",
            "94/94 - 0s - loss: 0.0016 - 128ms/epoch - 1ms/step\n",
            "Época 119\n",
            "94/94 - 0s - loss: 0.0016 - 126ms/epoch - 1ms/step\n",
            "Época 120\n",
            "94/94 - 0s - loss: 0.0016 - 134ms/epoch - 1ms/step\n",
            "Época 121\n",
            "94/94 - 0s - loss: 0.0016 - 130ms/epoch - 1ms/step\n",
            "Época 122\n",
            "94/94 - 0s - loss: 0.0016 - 134ms/epoch - 1ms/step\n",
            "Época 123\n",
            "94/94 - 0s - loss: 0.0016 - 130ms/epoch - 1ms/step\n",
            "Época 124\n",
            "94/94 - 0s - loss: 0.0016 - 130ms/epoch - 1ms/step\n",
            "Época 125\n",
            "94/94 - 0s - loss: 0.0016 - 131ms/epoch - 1ms/step\n",
            "Época 126\n",
            "94/94 - 0s - loss: 0.0016 - 139ms/epoch - 1ms/step\n",
            "Época 127\n",
            "94/94 - 0s - loss: 0.0016 - 121ms/epoch - 1ms/step\n",
            "Época 128\n",
            "94/94 - 0s - loss: 0.0016 - 122ms/epoch - 1ms/step\n",
            "Época 129\n",
            "94/94 - 0s - loss: 0.0016 - 128ms/epoch - 1ms/step\n",
            "Época 130\n",
            "94/94 - 0s - loss: 0.0016 - 133ms/epoch - 1ms/step\n",
            "Época 131\n",
            "94/94 - 0s - loss: 0.0016 - 140ms/epoch - 1ms/step\n",
            "Época 132\n",
            "94/94 - 0s - loss: 0.0015 - 132ms/epoch - 1ms/step\n",
            "Época 133\n",
            "94/94 - 0s - loss: 0.0015 - 132ms/epoch - 1ms/step\n",
            "Época 134\n",
            "94/94 - 0s - loss: 0.0015 - 134ms/epoch - 1ms/step\n",
            "Época 135\n",
            "94/94 - 0s - loss: 0.0015 - 129ms/epoch - 1ms/step\n",
            "Época 136\n",
            "94/94 - 0s - loss: 0.0015 - 133ms/epoch - 1ms/step\n",
            "Época 137\n",
            "94/94 - 0s - loss: 0.0015 - 129ms/epoch - 1ms/step\n",
            "Época 138\n",
            "94/94 - 0s - loss: 0.0015 - 125ms/epoch - 1ms/step\n",
            "Época 139\n",
            "94/94 - 0s - loss: 0.0015 - 149ms/epoch - 2ms/step\n",
            "Época 140\n",
            "94/94 - 0s - loss: 0.0015 - 133ms/epoch - 1ms/step\n",
            "Época 141\n",
            "94/94 - 0s - loss: 0.0015 - 132ms/epoch - 1ms/step\n",
            "Época 142\n",
            "94/94 - 0s - loss: 0.0015 - 133ms/epoch - 1ms/step\n",
            "Época 143\n",
            "94/94 - 0s - loss: 0.0015 - 133ms/epoch - 1ms/step\n",
            "Época 144\n",
            "94/94 - 0s - loss: 0.0015 - 148ms/epoch - 2ms/step\n",
            "Época 145\n",
            "94/94 - 0s - loss: 0.0015 - 128ms/epoch - 1ms/step\n",
            "Época 146\n",
            "94/94 - 0s - loss: 0.0015 - 129ms/epoch - 1ms/step\n",
            "Época 147\n",
            "94/94 - 0s - loss: 0.0015 - 136ms/epoch - 1ms/step\n",
            "Época 148\n",
            "94/94 - 0s - loss: 0.0015 - 134ms/epoch - 1ms/step\n",
            "Época 149\n",
            "94/94 - 0s - loss: 0.0015 - 127ms/epoch - 1ms/step\n"
          ]
        }
      ],
      "source": [
        "# Compilar el modelo\n",
        "model.compile(optimizer=\"adam\", loss='mean_squared_error')\n",
        "\n",
        "# Entrenamiento habitual (no resetearía el estado)\n",
        "# model.fit(trainX, trainY, epochs=30, batch_size=1)\n",
        "\n",
        "# Entrenar el modelo con reseteo explícito\n",
        "for i in range(150):\n",
        "  print('Época %d'%(i))\n",
        "  model.fit(trainX, trainY, epochs=1, batch_size=batch_size, verbose=2, shuffle=False)\n",
        "  model.reset_states()"
      ]
    },
    {
      "cell_type": "markdown",
      "metadata": {
        "id": "26p_v-mjD1WB"
      },
      "source": [
        "Una vez ajustado el modelo, podemos estimar su rendimiento en los conjuntos de datos de entrenamiento y de test. Esto nos dará un punto de comparación para los nuevos modelos.\n",
        "\n",
        "Hay que tener en cuenta que invertimos las predicciones antes de calcular las puntuaciones de error para asegurarnos de que el rendimiento se presenta en las mismas unidades que los datos originales (miles de pasajeros al mes)."
      ]
    },
    {
      "cell_type": "code",
      "execution_count": 10,
      "metadata": {
        "colab": {
          "base_uri": "https://localhost:8080/"
        },
        "id": "J1gwbMRJD1WD",
        "outputId": "f4005029-f3d7-418f-9bf7-528aee708e68"
      },
      "outputs": [
        {
          "output_type": "stream",
          "name": "stdout",
          "text": [
            "Train Score: 20.21 RMSE\n",
            "Test Score: 46.52 RMSE\n"
          ]
        }
      ],
      "source": [
        "# Realizar las predicciones\n",
        "trainPredict = model.predict(trainX,batch_size=batch_size)\n",
        "testPredict = model.predict(testX,batch_size=batch_size)\n",
        "# Deshacer la normalización\n",
        "trainPredict = scaler.inverse_transform(trainPredict)\n",
        "trainYOriginal = scaler.inverse_transform([trainY])\n",
        "testPredict = scaler.inverse_transform(testPredict)\n",
        "testYOriginal = scaler.inverse_transform([testY])\n",
        "# Calcular los error\n",
        "trainScore = math.sqrt(mean_squared_error(trainYOriginal[0], trainPredict[:,0]))\n",
        "print('Train Score: %.2f RMSE' % (trainScore))\n",
        "testScore = math.sqrt(mean_squared_error(testYOriginal[0], testPredict[:,0]))\n",
        "print('Test Score: %.2f RMSE' % (testScore))"
      ]
    },
    {
      "cell_type": "markdown",
      "metadata": {
        "id": "qSVz1FSXD1WH"
      },
      "source": [
        "Por último, podemos generar predicciones utilizando el modelo para el conjunto de datos de entrenamiento y de test para obtener una indicación visual de la habilidad del modelo.\n",
        "\n",
        "Debido a la forma en que se preparó el conjunto de datos, debemos desplazar las predicciones para que se alineen en el eje x con el conjunto de datos original. Una vez preparados, los datos se representan, mostrando el conjunto de datos original en azul, las predicciones del conjunto de datos de entrenamiento en verde y las predicciones del conjunto de datos de prueba no visto en rojo."
      ]
    },
    {
      "cell_type": "code",
      "execution_count": 11,
      "metadata": {
        "colab": {
          "base_uri": "https://localhost:8080/",
          "height": 281
        },
        "id": "83IgA45VD1WH",
        "outputId": "b07f88d8-7657-495e-9a2c-b3e5dab7d43e"
      },
      "outputs": [
        {
          "output_type": "display_data",
          "data": {
            "image/png": "[encoded data removed]",
            "text/plain": [
              "<Figure size 432x288 with 1 Axes>"
            ]
          },
          "metadata": {
            "needs_background": "light"
          }
        }
      ],
      "source": [
        "# Hacer un shift de las predicciones de entrenamiento para el plot\n",
        "trainPredictPlot = numpy.empty_like(dataset)\n",
        "trainPredictPlot[:, :] = numpy.nan\n",
        "trainPredictPlot[look_back:len(trainPredict)+look_back, :] = trainPredict\n",
        "# Hacer un shift de las predicciones de test para el plot\n",
        "testPredictPlot = numpy.empty_like(dataset)\n",
        "testPredictPlot[:, :] = numpy.nan\n",
        "testPredictPlot[len(trainPredict)+(look_back*2)+1:len(dataset)-1, :] = testPredict\n",
        "\n",
        "# Representar las predicciones\n",
        "plt.title(\"Plot baseline and predictions\")\n",
        "plt.plot(scaler.inverse_transform(dataset))\n",
        "plt.plot(trainPredictPlot)\n",
        "plt.plot(testPredictPlot)\n",
        "plt.show()\n",
        "\n"
      ]
    },
    {
      "cell_type": "markdown",
      "metadata": {
        "id": "IBPijESTD1WK"
      },
      "source": [
        "Como podemos ver, la red ha hecho un buen trabajo, aunque las predicciones empiezan a desviarse al final.\n",
        "\n",
        "---\n",
        "\n"
      ]
    },
    {
      "cell_type": "markdown",
      "source": [
        "## Referencias\n",
        "\n",
        "Este material se ha basado en la entrada [\"Time Series Prediction with LSTM Recurrent Neural Networks in Python with Keras\"](https://machinelearningmastery.com/time-series-prediction-lstm-recurrent-neural-networks-python-keras/) de Machine Learning Mastery. Es muy recomendable consultar la entrada completa."
      ],
      "metadata": {
        "id": "xMgWULOS8b75"
      }
    },
    {
      "cell_type": "code",
      "execution_count": 11,
      "metadata": {
        "id": "eCiIqHg3D1WK"
      },
      "outputs": [],
      "source": [
        ""
      ]
    }
  ],
  "metadata": {
    "colab": {
      "collapsed_sections": [],
      "name": "time_series_data.ipynb",
      "provenance": [],
      "include_colab_link": true
    },
    "kernelspec": {
      "display_name": "Python 3 (ipykernel)",
      "language": "python",
      "name": "python3"
    },
    "language_info": {
      "codemirror_mode": {
        "name": "ipython",
        "version": 3
      },
      "file_extension": ".py",
      "mimetype": "text/x-python",
      "name": "python",
      "nbconvert_exporter": "python",
      "pygments_lexer": "ipython3",
      "version": "3.9.7"
    }
  },
  "nbformat": 4,
  "nbformat_minor": 0
}